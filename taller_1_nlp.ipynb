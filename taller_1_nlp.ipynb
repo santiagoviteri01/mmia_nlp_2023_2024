{
  "nbformat": 4,
  "nbformat_minor": 0,
  "metadata": {
    "colab": {
      "provenance": []
    },
    "kernelspec": {
      "name": "python3",
      "display_name": "Python 3"
    },
    "language_info": {
      "name": "python"
    }
  },
  "cells": [
    {
      "cell_type": "markdown",
      "source": [
        "##Lab 1 - Regular Expressions\n",
        "\n",
        "####- Santiago Viteri\n",
        "####- Ricardo Loor\n",
        "\n",
        "</br>Build a rule-based chatbot. The bot will do the following activities:\n",
        "\n",
        "- When a greeting is recognized, start the conversation </br>\n",
        "- You’ll give 2 options that the user can ask you about the weather or the stock market </br>\n",
        "- You’ll reply and ask if they have a follow </br>\n",
        "- A user can ask up to 2 questions </br>\n",
        "- You’ll dismiss the user with a greeting </br>"
      ],
      "metadata": {
        "id": "pwVxIpBK_Sv4"
      }
    },
    {
      "cell_type": "code",
      "execution_count": null,
      "metadata": {
        "colab": {
          "base_uri": "https://localhost:8080/"
        },
        "id": "d-uL0BstsT_l",
        "outputId": "27058f05-487d-40bf-f702-39eac75693d9"
      },
      "outputs": [
        {
          "output_type": "stream",
          "name": "stdout",
          "text": [
            "Chatbot: Hi! How can I assist you today?\n",
            "You: o\n",
            "Chatbot: Please start the conversation with a greeting. (Hi, Hello, Hey, Greetings)\n",
            "You: hi\n",
            "Chatbot: Hello! What would you like to know about today or tomorrow weather?\n",
            "You: today weatther please\n",
            "Chatbot: The weather today is sunny with a high of 25°C.\n",
            "Chatbot: Would you like to know tomorrow forecast\n",
            "You: yes\n",
            "Chatbot: The weather tomorrow is chilly with a high of 12°C.\n",
            "Chatbot: That's all I can answer today. Goodbye!\n"
          ]
        }
      ],
      "source": [
        "import re\n",
        "\n",
        "# Define patterns for greetings, weather, and stock market inquiries\n",
        "greeting_pattern = re.compile(r'\\b(hi|hello|hey|greetings)\\b', re.IGNORECASE)\n",
        "weather_pattern_1 = re.compile(r'\\b(today)\\b', re.IGNORECASE)\n",
        "weather_pattern_1_2 = re.compile(r'\\b(ok|yes|sure)\\b', re.IGNORECASE)\n",
        "weather_pattern_2 = re.compile(r'\\b(tomorrow)\\b', re.IGNORECASE)\n",
        "bye_pattern = re.compile(r'\\b(bye|goodbye|see you)\\b', re.IGNORECASE)\n",
        "bye_pattern_1 = re.compile(r'\\b(no)\\b', re.IGNORECASE)\n",
        "\n",
        "# Define the chatbot function\n",
        "def chatbot():\n",
        "    # Start the conversation\n",
        "    print(\"Chatbot: Hi! How can I assist you today?\")\n",
        "\n",
        "    # Loop until a valid greeting is received\n",
        "    while True:\n",
        "        user_input = input(\"You: \")\n",
        "        if greeting_pattern.search(user_input):\n",
        "            print(\"Chatbot: Hello! What would you like to know about today or tomorrow weather?\")\n",
        "            break\n",
        "        else:\n",
        "            print(\"Chatbot: Please start the conversation with a greeting. (Hi, Hello, Hey, Greetings)\")\n",
        "\n",
        "    # Initialize question counter\n",
        "    question_count = 0\n",
        "\n",
        "    # User can ask up to 2 questions\n",
        "    while question_count < 2:\n",
        "        user_input = input(\"You: \")\n",
        "\n",
        "        # Check for weather inquiry for today\n",
        "        if weather_pattern_1.search(user_input):\n",
        "            print(\"Chatbot: The weather today is sunny with a high of 25°C.\")\n",
        "            question_count += 1\n",
        "            if question_count < 2:\n",
        "                print(\"Chatbot: Would you like to know tomorrow forecast\")\n",
        "                user_input = input(\"You: \")\n",
        "                if weather_pattern_1_2.search(user_input):\n",
        "                          print(\"Chatbot: The weather tomorrow is chilly with a high of 12°C.\")\n",
        "                          question_count += 1\n",
        "                elif bye_pattern_1.search(user_input):\n",
        "                    print(\"Chatbot: Goodbye! Have a great day!\")\n",
        "                    return\n",
        "\n",
        "        # Check for weather inquiry for tomorrow\n",
        "        elif weather_pattern_2.search(user_input):\n",
        "            print(\"Chatbot: The weather tomorrow is chilly with a high of 12°C.\")\n",
        "            question_count += 1\n",
        "            if question_count < 2:\n",
        "                print(\"Chatbot: Would you like to know today forecast\")\n",
        "                user_input = input(\"You: \")\n",
        "                if weather_pattern_1_2.search(user_input):\n",
        "                          print(\"Chatbot: The weather today is sunny with a high of 25°C.\")\n",
        "                          question_count += 1\n",
        "                elif bye_pattern_1.search(user_input):\n",
        "                  print(\"Chatbot: Goodbye! Have a great day!\")\n",
        "                  return\n",
        "\n",
        "        # Check for goodbye\n",
        "        elif bye_pattern.search(user_input):\n",
        "            print(\"Chatbot: Goodbye! Have a great day!\")\n",
        "            return\n",
        "\n",
        "        # If user asks something else\n",
        "        else:\n",
        "            print(\"Chatbot: I'm sorry, I can only help with the weather for today or tomorrow.\")\n",
        "\n",
        "    # After 2 questions, dismiss the user\n",
        "    print(\"Chatbot: That's all I can answer today. Goodbye!\")\n",
        "\n",
        "# Run the chatbot\n",
        "chatbot()\n"
      ]
    }
  ]
}