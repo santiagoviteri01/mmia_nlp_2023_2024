{
  "cells": [
    {
      "cell_type": "markdown",
      "metadata": {
        "id": "view-in-github",
        "colab_type": "text"
      },
      "source": [
        "<a href=\"https://colab.research.google.com/github/santiagoviteri01/mmia_nlp_2023_2024/blob/main/taller_4_cnn.ipynb\" target=\"_parent\"><img src=\"https://colab.research.google.com/assets/colab-badge.svg\" alt=\"Open In Colab\"/></a>"
      ]
    },
    {
      "cell_type": "code",
      "execution_count": 1,
      "id": "128217ab-576d-4f99-8feb-58ba99319da9",
      "metadata": {
        "id": "128217ab-576d-4f99-8feb-58ba99319da9"
      },
      "outputs": [],
      "source": [
        "import torch\n",
        "import numpy as np\n",
        "import re\n",
        "from torch.utils.data import Dataset, DataLoader\n",
        "import torch.nn.functional as F\n",
        "import torch.nn as nn\n",
        "from nltk.corpus import stopwords\n",
        "from nltk.stem.snowball import SnowballStemmer\n",
        "from nltk.tokenize import RegexpTokenizer\n",
        "from collections import Counter\n"
      ]
    },
    {
      "cell_type": "code",
      "execution_count": 2,
      "id": "350e7724-8d7c-40f2-ac7f-07000c10f38d",
      "metadata": {
        "colab": {
          "base_uri": "https://localhost:8080/"
        },
        "id": "350e7724-8d7c-40f2-ac7f-07000c10f38d",
        "outputId": "90eb2b47-85ea-41c7-e6aa-d63662118ae9"
      },
      "outputs": [
        {
          "output_type": "stream",
          "name": "stdout",
          "text": [
            "Mounted at /content/drive\n"
          ]
        }
      ],
      "source": [
        "from google.colab import drive\n",
        "drive.mount('/content/drive')"
      ]
    },
    {
      "cell_type": "code",
      "execution_count": 4,
      "id": "lbYuh0vWt6or",
      "metadata": {
        "id": "lbYuh0vWt6or"
      },
      "outputs": [],
      "source": [
        "import numpy as np\n",
        "import torch\n",
        "from torch import nn\n",
        "from torch.utils.data import Dataset, DataLoader\n",
        "from sklearn.preprocessing import LabelEncoder\n",
        "from collections import defaultdict\n",
        "import re\n",
        "\n",
        "# Load the text\n",
        "def load_text(file_path):\n",
        "    with open(file_path, 'r') as file:\n",
        "        text = file.read()\n",
        "    return text\n",
        "\n",
        "# Prepare a small portion of text\n",
        "file_path = '/content/drive/MyDrive/cap1.txt'\n",
        "text = load_text(file_path)"
      ]
    },
    {
      "cell_type": "code",
      "execution_count": null,
      "id": "kWCGJ9HKuJvl",
      "metadata": {
        "colab": {
          "base_uri": "https://localhost:8080/",
          "height": 174
        },
        "id": "kWCGJ9HKuJvl",
        "outputId": "d5b3d75f-7196-4d4e-ecb4-0537978ca734"
      },
      "outputs": [
        {
          "output_type": "execute_result",
          "data": {
            "text/plain": [
              "'Muchos años después, frente al pelotón de fusilamiento, el coronel Aureliano Buendía había de recordar aquella tarde remota en que su padre lo llevó a conocer el hielo. Macondo era entonces una aldea de veinte casas de barro y cañabrava construidas a la orilla de un río de aguas diáfanas que se precipitaban por un lecho de piedras pulidas, blancas y enormes como huevos prehistóricos. El mundo era tan reciente, que muchas cosas carecían de nombre, y para mencionarlas había que señalarlas con el dedo. Todos los años, por el mes de marzo, una familia de gitanos desarrapados plantaba su carpa cerca de la aldea, y con un grande alboroto de pitos y timbales daban a conocer los nuevos inventos. Primero llevaron el imán. Un gitano corpulento, de barba montaraz y manos de gorrión, que se presentó con el nombre de Melquíades, hizo una truculenta demostración pública de lo que él mismo llamaba la octava maravilla de los sabios alquimistas de Macedonia. Fue de casa en casa arrastrando dos lingotes metálicos, y todo el mundo se espantó al ver que los calderos, las pailas, las tenazas y los anafes se caían de su sitio, y las maderas crujían por la desesperación de los clavos y los tornillos tratando de desenclavarse, y aun los objetos perdidos desde hacía mucho tiempo aparecían por donde más se les había buscado, y se arrastraban en desbandada turbulenta detrás de los fierros mágicos de Melquíades. «Las cosas tienen vida propia —pregonaba el gitano con áspero acento—, todo es cuestión de despertarles el ánima.» José Arcadio Buendía, cuya desaforada imaginación iba siempre más lejos que el ingenio de la naturaleza, y aun más allá del milagro y la magia, pensó que era posible servirse de aquella invención inútil para desentrañar el oro de la tierra. Melquíades, que era un hombre honrado, le previno: «Para eso no sirve.» Pero José Arcadio Buendía no creía en aquel tiempo en la honradez de los gitanos, así que cambió su mulo y una partida de chivos por los dos lingotes imantados. Úrsula Iguarán, su mujer, que contaba con aquellos animales para ensanchar el desmedrado patrimonio doméstico, no consiguió disuadirlo. «Muy pronto ha de sobrarnos oro para empedrar la casa», replicó su marido. Durante varios meses se empeñó en demostrar el acierto de sus conjeturas. Exploró palmo a palmo la región, inclusive el fondo del río, arrastrando los dos lingotes de hierro y recitando en voz alta el conjuro de Melquíades. Lo único que logró desenterrar fue una armadura del siglo XV con todas sus partes soldadas por un cascote de óxido, cuyo interior tenía la resonancia hueca de un enorme calabazo lleno de piedras. Cuando José Arcadio Buendía y los cuatro hombres de su expedición lograron desarticular la armadura, encontraron dentro un esqueleto calcificado que llevaba colgado en el cuello un relicario de cobre con un rizo de mujer.\\n \\nEn marzo volvieron los gitanos. Esta vez llevaban un catalejo y una lupa del tamaño de un tambor, que exhibieron como el último descubrimiento de los judíos de Amsterdam. Sentaron una gitana en un extremo de la aldea e instalaron el catalejo a la entrada de la carpa. Mediante el pago de cinco reales, la gente se asomaba al catalejo y veía a la gitana al alcance de su mano. «La ciencia ha eliminado las distancias», pregonaba Melquíades. «Dentro de poco, el hombre podrá ver lo que ocurre en cualquier lugar de la tierra, sin moverse de su casa.» Un mediodía ardiente hicieron una asombrosa demostración con la lupa gigantesca: pusieron un montón de hierba seca en mitad de la calle y le prendieron fuego mediante la concentración de los rayos solares. José Arcadio Buendía, que aún no acababa de consolarse por el fracaso de sus imanes, concibió la idea de utilizar aquel invento como un arma de guerra. Melquíades, otra vez, trató de disuadirlo. Pero terminó por aceptar los dos lingotes imantados y tres piezas de dinero colonial a cambio de la lupa. Úrsula lloró de consternación. Aquel dinero formaba parte de un cofre de monedas de oro que su padre había acumulado en toda una vida de privaciones, y que ella había enterrado debajo de la cama en espera de una buena ocasión para invertirlas. José Arcadio Buendía no trató siquiera de consolarla, entregado por entero a sus experimentos tácticos con la abnegación de un científico y aun a riesgo de su propia vida. Tratando de demostrar los efectos de la lupa en la tropa enemiga, se expuso él mismo a la concentración de los rayos solares y sufrió quemaduras que se convirtieron en úlceras y tardaron mucho tiempo en sanar. Ante las protestas de su mujer, alarmada por tan peligrosa inventiva, estuvo a punto de incendiar la casa. Pasaba largas horas en su cuarto, haciendo cálculos sobre las posibilidades estratégicas de su arma novedosa, hasta que logró componer un manual de una asombrosa claridad didáctica y un poder de convicción irresistible. Lo envió a las autoridades acompañado de numerosos testimonios sobre sus experiencias y de varios pliegos de dibujos explicativos, al cuidado de un mensajero que atravesó la sierra, se extravió en pantanos desmesurados, remontó ríos tormentosos y estuvo a punto de perecer bajo el azote de las fieras, la desesperación y la peste, antes de conseguir una ruta de enlace con las mulas del correo. A pesar de que el viaje a la capital era en aquel tiempo poco menos que imposible, José Arcadio Buendía prometía intentarlo tan pronto como se lo ordenara el gobierno, con el fin de hacer demostraciones prácticas de su invento ante los poderes militares, y adiestrarlos personalmente en las complicadas artes de la guerra solar. Durante varios años esperó la respuesta. Por último, cansado de esperar, se lamentó ante Melquíades del fracaso de su iniciativa, y el gitano dio entonces una prueba convincente de honradez: le devolvió los doblones a cambio de la lupa, y le dejó además unos mapas portugueses y varios instrumentos de navegación. De su puño y letra escribió una apretada síntesis de los estudios del monje Hermann, que dejó a su disposición para que pudiera servirse del astrolabio, la brújula y el sextante. José Arcadio Buendía pasó los largos meses de lluvia encerrado en un cuartito que construyó en el fondo de la casa para que nadie perturbara sus experimentos. Habiendo abandonado por completo las obligaciones domésticas, permaneció noches enteras en el patio vigilando el curso de los astros, y estuvo a punto de contraer una insolación por tratar de establecer un método exacto para encontrar el mediodía. Cuando se hizo experto en el uso y manejo de sus instrumentos, tuvo una noción del espacio que le permitió navegar por mares incógnitos, visitar territorios deshabitados y trabar relación con seres espléndidos, sin necesidad de abandonar su gabinete. Fue esa la época en que adquirió el hábito de hablar a solas, paseándose por la casa sin hacer caso de nadie, mientras Úrsula y los niños se partían el espinazo en la huerta cuidando el plátano y la malanga, la yuca y el ñame, la ahuyama y la berenjena. De pronto, sin ningún anuncio, su actividad febril se interrumpió y fue sustituida por una especie de fascinación. Estuvo varios días como hechizado, repitiéndose a sí mismo en voz baja un sartal de asombrosas conjeturas, sin dar crédito a su propio entendimiento. Por fin, un martes de diciembre, a la hora del almuerzo, soltó de un golpe toda la carga de su tormento. Los niños habían de recordar por el resto de su vida la augusta solemnidad con que su padre se sentó a la cabecera de la mesa, temblando de fiebre, devastado por la prolongada vigilia y por el encono de su imaginación, y les reveló su descubrimiento:\\n \\n—La tierra es redonda como una naranja.\\n \\nÚrsula perdió la paciencia. «Si has de volverte loco, vuélvete tú solo», gritó. «Pero no trates de inculcar a los niños tus ideas de gitano.» José Arcadio Buendía, impasible, no se dejó amedrentar por la desesperación de su mujer, que en un rapto de cólera le destrozó el astrolabio contra el suelo. Construyó otro, reunió en el cuartito a los hombres del pueblo y les demostró, con teorías que para todos resultaban incomprensibles, la posibilidad de regresar al punto de partida navegando siempre hacia el Oriente. Toda la aldea estaba convencida de que José Arcadio Buendía había perdido el juicio, cuando llegó Melquíades a poner las cosas en su punto. Exaltó en público la inteligencia de aquel hombre que por pura especulación astronómica había construido una teoría ya comprobada en la práctica, aunque desconocida hasta entonces en Macondo, y como una prueba de su admiración le hizo un regalo que había de ejercer una influencia terminante en el futuro de la aldea: un laboratorio de alquimia.\\n \\nPara esa época, Melquíades había envejecido con una rapidez asombrosa. En sus primeros viajes parecía tener la misma edad de José Arcadio Buendía. Pero mientras éste conservaba su fuerza descomunal, que le permitía derribar un caballo agarrándolo por las orejas, el gitano parecía estragado por una dolencia tenaz. Era, en realidad, el resultado de múltiples y raras enfermedades contraídas en sus incontables viajes alrededor del mundo. Según él mismo le contó a José Arcadio Buendía mientras lo ayudaba a montar el laboratorio, la muerte lo seguía a todas partes, husmeándole los pantalones, pero sin decidirse a darle el zarpazo final. Era un fugitivo de cuantas plagas y catástrofes habían flagelado al género humano. Sobrevivió a la pelagra en Persia, al escorbuto en el archipiélago de Malasia, a la lepra en Alejandría, al beriberi en el Japón, a la peste bubónica en Madagascar, al terremoto de Sicilia y a un naufragio multitudinario en el estrecho de Magallanes. Aquel ser prodigioso que decía poseer las claves de Nostradamus, era un hombre lúgubre, envuelto en un aura triste, con una mirada asiática que parecía conocer el otro lado de las cosas. Usaba un sombrero grande y negro, como las alas extendidas de un cuervo, y un chaleco de terciopelo patinado por el verdín de los siglos. Pero a pesar de su inmensa sabiduría y de su ámbito misterioso tenía un peso humano, una condición terrestre que lo mantenía enredado en los minúsculos problemas de la vida cotidiana. Se quejaba de dolencias de viejo, sufría por los más insignificantes percances económicos y había dejado de reír desde hacía mucho tiempo, porque el escorbuto le había arrancado los dientes. El sofocante mediodía en que reveló sus secretos, José Arcadio Buendía tuvo la certidumbre de que aquel era el principio de una grande amistad. Los niños se asombraron con sus relatos fantásticos. Aureliano, que no tenía entonces más de cinco años, había de recordarlo por el resto de su vida como lo vio aquella tarde, sentado contra la claridad metálica y reverberante de la ventana, alumbrando con su profunda voz de órgano los territorios más oscuros de la imaginación, mientras chorreaba por sus sienes la grasa derretida por el calor. José Arcadio, su hermano mayor, había de transmitir aquella imagen maravillosa, como un recuerdo hereditario, a toda su descendencia. Úrsula, en cambio, conservó un mal recuerdo de aquella visita, porque entró al cuarto en el momento en que Melquíades rompió por distracción un frasco de bicloruro de mercurio.\\n\\n—Es el olor del demonio —dijo ella.\\n—En absoluto —corrigió Melquíades—. Está comprobado que el demonio tiene propiedades sulfúricas, y esto no es más que un poco de solimán.\\n \\n\\nSiempre didáctico, hizo una sabia exposición sobre las virtudes diabólicas del cinabrio, pero Úrsula no le hizo caso, sino que se llevó los niños a rezar. Aquel olor mordiente quedaría para siempre en su memoria, vinculado al recuerdo de Melquíades.\\n \\n\\nEl rudimentario laboratorio —sin contar una profusión de cazuelas, embudos, retortas, filtros y coladores— estaba compuesto por un atanor primitivo; una probeta de cristal de cuello largo y angosto, imitación del huevo filosófico, y un destilador construido por los propios gitanos según las descripciones modernas del alambique de tres brazos de María la judía. Además de estas cosas, Melquíades dejó muestras de los siete metales correspondientes a los siete planetas, las fórmulas de Moisés y Zósimo para el doblado del oro, y una serie de apuntes y dibujos sobre los procesos del Gran Magisterio, que permitían a quien supiera interpretarlos intentar la fabricación de la piedra filosofal. Seducido por la simplicidad de las fórmulas para doblar el oro, José Arcadio Buendía cortejó a Úrsula durante varias semanas, para que le permitiera desenterrar sus monedas coloniales y aumentarlas tantas veces como era posible subdividir el azogue. Úrsula cedió, como ocurría siempre, ante la inquebrantable obstinación de su marido. Entonces José Arcadio Buendía echó treinta doblones en una cazuela, y los fundió con raspadura de cobre, oropimente, azufre y plomo. Puso a hervir todo a fuego vivo en un caldero de aceite de ricino hasta obtener un jarabe espeso y pestilente más parecido al caramelo vulgar que al oro magnífico. En azarosos y desesperados procesos de destilación, fundida con los siete metales planetarios, trabajada con el mercurio hermético y el vitriolo de Chipre, y vuelta a cocer en manteca de cerdo a falta de aceite de rábano, la preciosa herencia de Úrsula quedó reducida a un chicharrón carbonizado que no pudo ser desprendido del fondo del caldero.\\n \\n\\nCuando volvieron los gitanos, Úrsula había predispuesto contra ellos a toda la población. Pero la curiosidad pudo más que el temor, porque aquella vez los gitanos recorrieron la aldea haciendo un ruido ensordecedor con toda clase de instrumentos músicos, mientras el pregonero anunciaba la exhibición del más fabuloso hallazgo de los nasciancenos. De modo que todo el mundo se fue a la carpa, y mediante el pago de un centavo vieron un Melquíades juvenil, repuesto, desarrugado, con una dentadura nueva y radiante. Quienes recordaban sus encías destruidas por el escorbuto, sus mejillas fláccidas y sus labios marchitos se estremecieron de pavor ante aquella prueba terminante de los poderes sobrenaturales del gitano. El pavor se convirtió en pánico cuando Melquíades se sacó los dientes, intactos, engastados en las encías, y se los mostró al público por un instante —un instante fugaz en que volvió a ser el mismo hombre decrépito de los años anteriores— y se los puso otra vez y sonrió de nuevo con un dominio pleno de su juventud restaurada. Hasta el propio José Arcadio Buendía consideró que los conocimientos de Melquíades habían llegado a extremos intolerables, pero experimentó un saludable alborozo cuando el gitano le explicó a solas el mecanismo de su dentadura postiza. Aquello le pareció a la vez tan sencillo y prodigioso, que de la noche a la mañana perdió todo interés en las investigaciones de alquimia; sufrió una nueva crisis de mal humor, no volvió a comer en forma regular y se pasaba el día dando vueltas por la casa. «En el mundo están ocurriendo cosas increíbles», le decía a Úrsula. «Ahí mismo, al otro lado del río, hay toda clase de aparatos mágicos, mientras nosotros seguimos viviendo como los burros.» Quienes lo conocían desde los tiempos de la fundación de Macondo se asombraban de cuánto había cambiado bajo la influencia de Melquíades.\\n \\n\\nAl principio, José Arcadio Buendía era una especie de patriarca juvenil, que daba instrucciones para la siembra y consejos para la crianza de niños y animales, y colaboraba con todos, aun en el trabajo físico, para la buena marcha de la comunidad. Puesto que su casa fue desde el primer momento la mejor de la aldea, las otras fueron arregladas a su imagen y semejanza. Tenía una salita amplia y bien iluminada, un comedor en forma de terraza con flores de colores alegres, dos dormitorios, un patio con un castaño gigantesco, un huerto bien plantado y un corral donde vivían en comunidad pacífica los chivos, los cerdos y las gallinas. Los únicos animales prohibidos no sólo en la casa, sino en todo el poblado, eran los gallos de pelea.\\n \\n\\nLa laboriosidad de Úrsula andaba a la par con la de su marido. Activa, menuda, severa, aquella mujer de nervios inquebrantables, a quien en ningún momento de su vida se la oyó cantar, parecía estar en todas partes desde el amanecer hasta muy entrada la noche, siempre perseguida por el suave susurro de sus pollerines de olán. Gracias a ella, los pisos de tierra golpeada, los muros de barro sin encalar, los rústicos muebles de madera construidos por ellos mismos estaban siempre limpios, y los viejos arcones donde se guardaba la ropa exhalaban un tibio olor de albahaca.\\n \\n\\nJosé Arcadio Buendía, que era el hombre más emprendedor que se vería jamás en la aldea, había dispuesto de tal modo la posición de las casas, que desde todas podía llegarse al río y abastecerse de agua con igual esfuerzo, y trazó las calles con tan buen sentido que ninguna casa recibía más sol que otra a la hora del calor. En pocos años, Macondo fue una aldea más ordenada y laboriosa que cualquiera de las conocidas hasta entonces por sus 300 habitantes. Era en verdad una aldea feliz, donde nadie era mayor de treinta años y donde nadie había muerto.\\n \\n\\nDesde los tiempos de la fundación, José Arcadio Buendía construyó trampas y jaulas. En poco tiempo llenó de turpiales, canarios, azulejos y petirrojos no sólo la propia casa, sino todas las de la aldea. El concierto de tantos pájaros distintos llegó a ser tan aturdidor, que Úrsula se tapó los oídos con cera de abejas para no perder el sentido de la realidad. La primera vez que llegó la tribu de Melquíades vendiendo bolas de vidrio para el dolor de cabeza, todo el mundo se sorprendió de que hubieran podido encontrar aquella aldea perdida en el sopor de la ciénaga, y los gitanos confesaron que se habían orientado por el canto de los pájaros.\\n \\n\\nAquel espíritu de iniciativa social desapareció en poco tiempo, arrastrado por la fiebre de los imanes, los cálculos astronómicos, los sueños de transmutación y las ansias de conocer las maravillas del mundo. De emprendedor y limpio, José Arcadio Buendía se convirtió en un hombre de aspecto holgazán, descuidado en el vestir, con una barba salvaje que Úrsula lograba cuadrar a duras penas con un cuchillo de cocina. No faltó quien lo considerara víctima de algún extraño sortilegio. Pero hasta los más convencidos de su locura abandonaron trabajo y familias para seguirlo, cuando se echó al hombro sus herramientas de desmontar, y pidió el concurso de todos para abrir una trocha que pusiera a Macondo en contacto con los grandes inventos.\\n \\n\\nJosé Arcadio Buendía ignoraba por completo la geografía de la región. Sabía que hacia el oriente estaba la sierra impenetrable, y al otro lado de la sierra la antigua ciudad de Riohacha, donde en épocas pasadas —según le había contado el primer Aureliano Buendía, su abuelo— Sir Francis Drake se daba al deporte de cazar caimanes a cañonazos, que luego hacía remendar y rellenar de paja para llevárselos a la reina Isabel. En su juventud, él y sus hombres, con mujeres y niños y animales y toda clase de enseres domésticos, atravesaron la sierra buscando una salida al mar, y al cabo de veintiséis meses desistieron de la empresa y fundaron a Macondo para no tener que emprender el camino de regreso. Era, pues, una ruta que no le interesaba, porque sólo podía conducirlo al pasado. Al sur estaban los pantanos, cubiertos de una eterna nata vegetal, y el vasto universo de la ciénaga grande, que según testimonio de los gitanos carecía de límites. La ciénaga grande se confundía al occidente con una extensión acuática sin horizontes, donde había cetáceos de piel delicada con cabeza y torso de mujer, que perdían a los navegantes con el hechizo de sus tetas descomunales. Los gitanos navegaban seis meses por esa ruta antes de alcanzar el cinturón de tierra firme por donde pasaban las mulas del correo. De acuerdo con los cálculos de José Arcadio Buendía, la única posibilidad de contacto con la civilización era la ruta del norte. De modo que dotó de herramientas de desmonte y armas de cacería a los mismos hombres que lo acompañaron en la fundación de Macondo; echó en una mochila sus instrumentos de orientación y sus mapas, y emprendió la temeraria aventura.\\n \\n\\nLos primeros días no encontraron un obstáculo apreciable. Descendieron por la pedregosa ribera del río hasta el lugar en que años antes habían encontrado la armadura del guerrero, y allí penetraron al bosque por un sendero de naranjos silvestres. Al término de la primera semana, mataron y asaron un venado, pero se conformaron con comer la mitad y salar el resto para los próximos días. Trataban de aplazar con esa precaución la necesidad de seguir comiendo guacamayas, cuya carne azul tenía un áspero sabor de almizcle. Luego, durante más de diez días, no volvieron a ver el sol. El suelo se volvió blando y húmedo, como ceniza volcánica, y la vegetación fue cada vez más insidiosa y se hicieron cada vez más lejanos los gritos de los pájaros y la bullaranga de los monos, y el mundo se volvió triste para siempre. Los hombres de la expedición se sintieron abrumados por sus recuerdos más antiguos en aquel paraíso de humedad y silencio, anterior al pecado original, donde las botas se hundían en pozos de aceites humeantes y los machetes destrozaban lirios sangrientos y salamandras doradas. Durante una semana, casi sin hablar, avanzaron como sonámbulos por un universo de pesadumbre, alumbrados apenas por una tenue reverberación de insectos luminosos y con los pulmones agobiados por un sofocante olor de sangre. No podían regresar, porque la trocha que iban abriendo a su paso se volvía a cerrar en poco tiempo, con una vegetación nueva que casi veían crecer ante sus ojos. «No importa», decía José Arcadio Buendía. «Lo esencial es no perder la orientación.» Siempre pendiente de la brújula, siguió guiando a sus hombres hacia el norte invisible, hasta que lograron salir de la región encantada. Era una noche densa, sin estrellas, pero la oscuridad estaba impregnada por un aire nuevo y limpio. Agotados por la prolongada travesía, colgaron las hamacas y durmieron a fondo por primera vez en dos semanas. Cuando despertaron, ya con el sol alto, se quedaron pasmados de fascinación. Frente a ellos, rodeado de helechos y palmeras, blanco y polvoriento en la silenciosa luz de la mañana, estaba un enorme galeón español. Ligeramente volteado a estribor, de su arboladura intacta colgaban las piltrafas escuálidas del velamen, entre jarcias adornadas de orquídeas. El casco, cubierto con una tersa coraza de rémora petrificada y musgo tierno, estaba firmemente enclavado en un suelo de piedras. Toda la estructura parecía ocupar un ámbito propio, un espacio de soledad y de olvido, vedado a los vicios del tiempo y a las costumbres de los pájaros. En el interior, que los expedicionarios exploraron con un fervor sigiloso, no había nada más que un apretado bosque de flores.\\n \\n\\nEl hallazgo del galeón, indicio de la proximidad del mar, quebrantó el ímpetu de José Arcadio Buendía. Consideraba como una burla de su travieso destino haber buscado el mar sin encontrarlo, al precio de sacrificios y penalidades sin cuento, y haberlo encontrado entonces sin buscarlo, atravesado en su camino como un obstáculo insalvable. Muchos años después, el coronel Aureliano Buendía volvió a atravesar la región, cuando era ya una ruta regular del correo, y lo único que encontró de la nave fue el costillar carbonizado en medio de un campo de amapolas. Sólo entonces, convencido de que aquella historia no había sido un engendro de la imaginación de su padre, se preguntó cómo había podido el galeón adentrarse hasta ese punto en tierra firme. Pero José Arcadio Buendía no se planteó esa inquietud cuando encontró el mar, al cabo de otros cuatro días de viaje, a doce kilómetros de distancia del galeón. Sus sueños terminaban frente a ese mar color de ceniza, espumoso y sucio, que no merecía los riesgos y sacrificios de su aventura.\\n \\n\\n—¡Carajo! —gritó—. Macondo está rodeado de agua por todas partes.\\n \\n\\nLa idea de un Macondo peninsular prevaleció durante mucho tiempo, inspirada en el mapa arbitrario que dibujó José Arcadio Buendía al regreso de su expedición. Lo trazó con rabia, exagerando de mala fe las dificultades de comunicación, como para castigarse a sí mismo por la absoluta falta de sentido con que eligió el lugar. «Nunca llegaremos a ninguna parte», se lamentaba ante Úrsula. «Aquí nos hemos de pudrir en vida sin recibir los beneficios de la ciencia.» Esa certidumbre, rumiada varios meses en el cuartito del laboratorio, lo llevó a concebir el proyecto de trasladar a Macondo a un lugar más propicio. Pero esta vez, Úrsula se anticipó a sus designios febriles. En una secreta e implacable labor de hormiguita predispuso a las mujeres de la aldea contra la veleidad de sus hombres, que ya empezaban a prepararse para la mudanza. José Arcadio Buendía no supo en qué momento, ni en virtud de qué fuerzas adversas, sus planes se fueron enredando en una maraña de pretextos, contratiempos y evasivas, hasta convertirse en pura y simple ilusión. Úrsula lo observó con una atención inocente, y hasta sintió por él un poco de piedad, la mañana en que lo encontró en el cuartito del fondo comentando entre dientes sus sueños de mudanza, mientras colocaba en sus cajas originales las piezas del laboratorio. Lo dejó terminar. Lo dejó clavar las cajas y poner sus iniciales encima con un hisopo entintado, sin hacerle ningún reproche, pero sabiendo ya que él sabía (porque se lo oyó decir en sus sordos monólogos) que los hombres del pueblo no lo secundarían en su empresa. Sólo cuando empezó a desmontar la puerta del cuartito, Úrsula se atrevió a preguntarle por qué lo hacía, y él le contestó con una cierta amargura: «Puesto que nadie quiere irse, nos iremos solos.» Úrsula no se alteró.\\n \\n\\n—No nos iremos —dijo—. Aquí nos quedamos, porque aquí hemos tenido un hijo.\\n—Todavía no tenemos un muerto —dijo él—. Uno no es de ninguna parte mientras no tenga un muerto bajo la tierra.\\n \\n\\nÚrsula replicó, con una suave firmeza:\\n—Si es necesario que yo me muera para que se queden aquí, me muero.\\n \\n\\nJosé Arcadio Buendía no creyó que fuera tan rígida la voluntad de su mujer. Trató de seducirla con el hechizo de su fantasía, con la promesa de un mundo prodigioso donde bastaba con echar unos líquidos mágicos en la tierra para que las plantas dieran frutos a voluntad del hombre, y donde se vendían a precio de baratillo toda clase de aparatos para el dolor. Pero Úrsula fue insensible a su clarividencia.\\n \\n\\n—En vez de andar pensando en tus alocadas novelerías, debes ocuparte de tus hijos —replicó—. Míralos cómo están, abandonados a la buena de Dios, igual que los burros.\\n \\n\\nJosé Arcadio Buendía tomó al pie de la letra las palabras de su mujer. Miró a través de la ventana y vio a los dos niños descalzos en la huerta soleada, y tuvo la impresión de que sólo en aquel instante habían empezado a existir, concebidos por el conjuro de Úrsula. Algo ocurrió entonces en su interior; algo misterioso y definitivo que lo desarraigó de su tiempo actual y lo llevó a la deriva por una región inexplorada de los recuerdos. Mientras Úrsula seguía barriendo la casa que ahora estaba segura de no abandonar en el resto de su vida, él permaneció contemplando a los niños con mirada absorta, hasta que los ojos se le humedecieron y se los secó con el dorso de la mano, y exhaló un hondo suspiro de resignación.\\n \\n\\n—Bueno —dijo—. Diles que vengan a ayudarme a sacar las cosas de los cajones.\\n \\n\\nJosé Arcadio, el mayor de los niños, había cumplido catorce años. Tenía la cabeza cuadrada, el pelo hirsuto y el carácter voluntarioso de su padre. Aunque llevaba el mismo impulso de crecimiento y fortaleza física, ya desde entonces era evidente que carecía de imaginación. Fue concebido y dado a luz durante la penosa travesía de la sierra, antes de la fundación de Macondo, y sus padres dieron gracias al cielo al comprobar que no tenía ningún órgano de animal. Aureliano, el primer ser humano que nació en Macondo, iba a cumplir seis años en marzo. Era silencioso y retraído. Había llorado en el vientre de su madre y nació con los ojos abiertos. Mientras le cortaban el ombligo movía la cabeza de un lado a otro reconociendo las cosas del cuarto, y examinaba el rostro de la gente con una curiosidad sin asombro. Luego, indiferente a quienes se acercaban a conocerlo, mantuvo la atención concentrada en el techo de palma, que parecía a punto de derrumbarse bajo la tremenda presión de la lluvia. Úrsula no volvió a acordarse de la intensidad de esa mirada hasta un día en que el pequeño Aureliano, a la edad de tres años, entró a la cocina en el momento en que ella retiraba del fogón y ponía en la mesa una olla de caldo hirviendo. El niño, perplejo en la puerta, dijo: «Se va a caer.» La olla estaba bien puesta en el centro de la mesa, pero tan pronto como el niño hizo el anuncio, inició un movimiento irrevocable hacia el borde, como impulsada por un dinamismo interior, y se despedazó en el suelo. Úrsula, alarmada, le contó el episodio a su marido, pero éste lo interpretó como un fenómeno natural. Así fue siempre, ajeno a la existencia de sus hijos, en parte porque consideraba la infancia como un período de insuficiencia mental, y en parte porque siempre estaba demasiado absorto en sus propias especulaciones quiméricas.\\n \\n\\nPero desde la tarde en que llamó a los niños para que lo ayudaran a desempacar las cosas del laboratorio, les dedicó sus horas mejores. En el cuartito apartado, cuyas paredes se fueron llenando poco a poco de mapas inverosímiles y gráficos fabulosos, les enseñó a leer y escribir y a sacar cuentas, y les habló de las maravillas del mundo no sólo hasta donde le alcanzaban sus conocimientos, sino forzando a extremos increíbles los límites de su imaginación. Fue así como los niños terminaron por aprender que en el extremo meridional del África había hombres tan inteligentes y pacíficos que su único entretenimiento era sentarse a pensar, y que era posible atravesar a pie el mar Egeo saltando de isla en isla hasta el puerto de Salónica. Aquellas alucinantes sesiones quedaron de tal modo impresas en la memoria de los niños, que muchos años más tarde, un segundo antes de que el oficial de los ejércitos regulares diera la orden de fuego al pelotón de fusilamiento, el coronel Aureliano Buendía volvió a vivir la tibia tarde de marzo en que su padre interrumpió la lección de física, y se quedó fascinado, con la mano en el aire y los ojos inmóviles, oyendo a la distancia los pífanos y tambores y sonajas de los gitanos que una vez más llegaban a la aldea, pregonando el último y asombroso descubrimiento de los sabios de Memphis.\\n \\n\\nEran gitanos nuevos. Hombres y mujeres jóvenes que sólo conocían su propia lengua, ejemplares hermosos de piel aceitada y manos inteligentes, cuyos bailes y músicas sembraron en las calles un pánico de alborotada alegría, con sus loros pintados de todos los colores que recitaban romanzas italianas, y la gallina que ponía un centenar de huevos de oro al son de la pandereta, y el mono amaestrado que adivinaba el pensamiento, y la máquina múltiple que servía al mismo tiempo para pegar botones y bajar la fiebre, y el aparato para olvidar los malos recuerdos, y el emplasto para perder el tiempo, y un millar de invenciones más, tan ingeniosas e insólitas, que José Arcadio Buendía hubiera querido inventar la máquina de la memoria para poder acordarse de todas. En un instante transformaron la aldea. Los habitantes de Macondo se encontraron de pronto perdidos en sus propias calles, aturdidos por la feria multitudinaria.\\n \\n\\nLlevando un niño de cada mano para no perderlos en el tumulto, tropezando con saltimbanquis de dientes acorazados de oro y malabaristas de seis brazos, sofocado por el confuso aliento de estiércol y sándalo que exhalaba la muchedumbre, José Arcadio Buendía andaba como un loco buscando a Melquíades por todas partes, para que le revelara los infinitos secretos de aquella pesadilla fabulosa. Se dirigió a varios gitanos que no entendieron su lengua. Por último, llegó hasta el lugar donde Melquíades solía plantar su tienda, y encontró un armenio taciturno que anunciaba en castellano un jarabe para hacerse invisible. Se había tomado de un golpe una copa de la sustancia ambarina, cuando José Arcadio Buendía se abrió paso a empujones por entre el grupo absorto que presenciaba el espectáculo, y alcanzó a hacer la pregunta. El gitano lo envolvió en el clima atónito de su mirada, antes de convertirse en un charco de alquitrán pestilente y humeante sobre el cual quedó flotando la resonancia de su respuesta: «Melquíades murió.» Aturdido por la noticia, José Arcadio Buendía permaneció inmóvil, tratando de sobreponerse a la aflicción, hasta que el grupo se dispersó reclamado por otros artificios y el charco del armenio taciturno se evaporó por completo. Más tarde, otros gitanos le confirmaron que en efecto Melquíades había sucumbido a las fiebres en los médanos de Singapur, y su cuerpo había sido arrojado en el lugar más profundo del mar de Java. A los niños no les interesó la noticia. Estaban obstinados en que su padre los llevara a conocer la portentosa novedad de los sabios de Memphis, anunciada a la entrada de una tienda que, según decían, perteneció al rey Salomón. Tanto insistieron, que José Arcadio Buendía pagó los treinta reales y los condujo hasta el centro de la carpa, donde había un gigante de torso peludo y cabeza rapada, con un anillo de cobre en la nariz y una pesada cadena de hierro en el tobillo, custodiando un cofre de pirata. Al ser destapado por el gigante, el cofre dejó escapar un aliento glacial. Dentro sólo había un enorme bloque transparente, con infinitas agujas internas en las cuales se despedazaba en estrellas de colores la claridad del crepúsculo. Desconcertado, sabiendo que los niños esperaban una explicación inmediata, José Arcadio Buendía se atrevió a murmurar:\\n \\n\\n—Es el diamante más grande del mundo.\\n—No —corrigió el gitano—. Es hielo.\\n \\n\\nJosé Arcadio Buendía, sin entender, extendió la mano hacia el témpano, pero el gigante se la apartó. «Cinco reales más para tocarlo», dijo. José Arcadio Buendía los pagó, y entonces puso la mano sobre el hielo, y la mantuvo puesta por varios minutos, mientras el corazón se le hinchaba de temor y de júbilo al contacto del misterio. Sin saber qué decir, pagó otros diez reales para que sus hijos vivieran la prodigiosa experiencia. El pequeño José Arcadio se negó a tocarlo. Aureliano, en cambio, dio un paso hacia adelante, puso la mano y la retiró en el acto. «Está hirviendo», exclamó asustado. Pero su padre no le prestó atención. Embriagado por la evidencia del prodigio, en aquel momento se olvidó de la frustración de sus empresas delirantes y del cuerpo de Melquíades abandonado al apetito de los calamares. Pagó otros cinco reales, y con la mano puesta en el témpano, como expresando un testimonio sobre el texto sagrado, exclamó:\\n \\n\\n—Este es el gran invento de nuestro tiempo.\\n'"
            ],
            "application/vnd.google.colaboratory.intrinsic+json": {
              "type": "string"
            }
          },
          "metadata": {},
          "execution_count": 4
        }
      ],
      "source": [
        "text"
      ]
    },
    {
      "cell_type": "code",
      "execution_count": 5,
      "id": "43ouFa6kuz-f",
      "metadata": {
        "colab": {
          "base_uri": "https://localhost:8080/"
        },
        "id": "43ouFa6kuz-f",
        "outputId": "e87b1baa-3dc7-43df-e12e-74e36f39612c"
      },
      "outputs": [
        {
          "output_type": "stream",
          "name": "stdout",
          "text": [
            "Requirement already satisfied: nltk in /usr/local/lib/python3.10/dist-packages (3.8.1)\n",
            "Requirement already satisfied: click in /usr/local/lib/python3.10/dist-packages (from nltk) (8.1.7)\n",
            "Requirement already satisfied: joblib in /usr/local/lib/python3.10/dist-packages (from nltk) (1.4.2)\n",
            "Requirement already satisfied: regex>=2021.8.3 in /usr/local/lib/python3.10/dist-packages (from nltk) (2024.5.15)\n",
            "Requirement already satisfied: tqdm in /usr/local/lib/python3.10/dist-packages (from nltk) (4.66.5)\n"
          ]
        }
      ],
      "source": [
        "!pip install nltk # install nltk\n",
        "import nltk"
      ]
    },
    {
      "cell_type": "code",
      "execution_count": 6,
      "id": "10dc3f66-516f-4bc2-bec0-d36595e09eb7",
      "metadata": {
        "colab": {
          "base_uri": "https://localhost:8080/"
        },
        "id": "10dc3f66-516f-4bc2-bec0-d36595e09eb7",
        "outputId": "f6668350-f4d2-41a5-aac0-937a6f1223f8"
      },
      "outputs": [
        {
          "output_type": "stream",
          "name": "stderr",
          "text": [
            "[nltk_data] Downloading package stopwords to /root/nltk_data...\n",
            "[nltk_data]   Unzipping corpora/stopwords.zip.\n"
          ]
        }
      ],
      "source": [
        "nltk.download('stopwords')\n",
        "ss = SnowballStemmer('spanish')\n",
        "sw = stopwords.words('spanish')\n",
        "tokenizer = RegexpTokenizer(r'\\w+')"
      ]
    },
    {
      "cell_type": "code",
      "execution_count": null,
      "id": "6dd60fb1-8cc3-40d1-a394-5b8d5bb7a28e",
      "metadata": {
        "id": "6dd60fb1-8cc3-40d1-a394-5b8d5bb7a28e"
      },
      "outputs": [],
      "source": [
        "#!ls -lh ./workspace/mmia-6021-fall24/guides/data/"
      ]
    },
    {
      "cell_type": "code",
      "execution_count": null,
      "id": "b963f7ae-a311-4f71-9152-278bb82b27e5",
      "metadata": {
        "colab": {
          "base_uri": "https://localhost:8080/"
        },
        "id": "b963f7ae-a311-4f71-9152-278bb82b27e5",
        "outputId": "c065eb3a-61e6-48e2-8203-d1af4111aafc"
      },
      "outputs": [
        {
          "name": "stdout",
          "output_type": "stream",
          "text": [
            "head: cannot open './workspace/mmia-6021-fall24/guides/data/gabriel_garcia_marquez_cien_annos_soledad.txt' for reading: No such file or directory\n"
          ]
        }
      ],
      "source": [
        "#!head -c 1000 './workspace/mmia-6021-fall24/guides/data/gabriel_garcia_marquez_cien_annos_soledad.txt'"
      ]
    },
    {
      "cell_type": "code",
      "execution_count": null,
      "id": "2173ee82-a8cb-4b0e-99b3-aff4137eaea2",
      "metadata": {
        "id": "2173ee82-a8cb-4b0e-99b3-aff4137eaea2"
      },
      "outputs": [],
      "source": [
        "#text = open('./workspace/mmia-6021-fall24/guides/data/gabriel_garcia_marquez_cien_annos_soledad.txt', 'r').read().lower()\n",
        "# text = open('./workspace/mmia-6021-fall24/guides/data/cap1.txt', 'r').read().lower()"
      ]
    },
    {
      "cell_type": "code",
      "execution_count": 7,
      "id": "affc5ea5-e8c6-4205-891c-e2646771a197",
      "metadata": {
        "id": "affc5ea5-e8c6-4205-891c-e2646771a197"
      },
      "outputs": [],
      "source": [
        "def split_tokens(text):\n",
        "    tokens = tokenizer.tokenize(text)\n",
        "    tokens = [w for w in tokens if w not in sw]\n",
        "    #tokens = [ss.stem(w) for w in tokens if w not in sw]\n",
        "    return tokens\n"
      ]
    },
    {
      "cell_type": "code",
      "execution_count": 8,
      "id": "f0346671-2a37-47b3-9b7e-29d5c47bbded",
      "metadata": {
        "id": "f0346671-2a37-47b3-9b7e-29d5c47bbded"
      },
      "outputs": [],
      "source": [
        "tokens = split_tokens(text)"
      ]
    },
    {
      "cell_type": "code",
      "execution_count": 9,
      "id": "faf7c83c-80f6-489e-9b42-0d96b8c72c45",
      "metadata": {
        "colab": {
          "base_uri": "https://localhost:8080/"
        },
        "id": "faf7c83c-80f6-489e-9b42-0d96b8c72c45",
        "outputId": "a7b8a949-ee07-4b54-fc62-a51ccbec26e0",
        "collapsed": true
      },
      "outputs": [
        {
          "output_type": "execute_result",
          "data": {
            "text/plain": [
              "['Muchos',\n",
              " 'años',\n",
              " 'después',\n",
              " 'frente',\n",
              " 'pelotón',\n",
              " 'fusilamiento',\n",
              " 'coronel',\n",
              " 'Aureliano',\n",
              " 'Buendía',\n",
              " 'recordar',\n",
              " 'aquella',\n",
              " 'tarde',\n",
              " 'remota',\n",
              " 'padre',\n",
              " 'llevó',\n",
              " 'conocer',\n",
              " 'hielo',\n",
              " 'Macondo',\n",
              " 'entonces',\n",
              " 'aldea',\n",
              " 'veinte',\n",
              " 'casas',\n",
              " 'barro',\n",
              " 'cañabrava',\n",
              " 'construidas',\n",
              " 'orilla',\n",
              " 'río',\n",
              " 'aguas',\n",
              " 'diáfanas',\n",
              " 'precipitaban',\n",
              " 'lecho',\n",
              " 'piedras',\n",
              " 'pulidas',\n",
              " 'blancas',\n",
              " 'enormes',\n",
              " 'huevos',\n",
              " 'prehistóricos',\n",
              " 'El',\n",
              " 'mundo',\n",
              " 'tan',\n",
              " 'reciente',\n",
              " 'muchas',\n",
              " 'cosas',\n",
              " 'carecían',\n",
              " 'nombre',\n",
              " 'mencionarlas',\n",
              " 'señalarlas',\n",
              " 'dedo',\n",
              " 'Todos',\n",
              " 'años',\n",
              " 'mes',\n",
              " 'marzo',\n",
              " 'familia',\n",
              " 'gitanos',\n",
              " 'desarrapados',\n",
              " 'plantaba',\n",
              " 'carpa',\n",
              " 'cerca',\n",
              " 'aldea',\n",
              " 'grande',\n",
              " 'alboroto',\n",
              " 'pitos',\n",
              " 'timbales',\n",
              " 'daban',\n",
              " 'conocer',\n",
              " 'nuevos',\n",
              " 'inventos',\n",
              " 'Primero',\n",
              " 'llevaron',\n",
              " 'imán',\n",
              " 'Un',\n",
              " 'gitano',\n",
              " 'corpulento',\n",
              " 'barba',\n",
              " 'montaraz',\n",
              " 'manos',\n",
              " 'gorrión',\n",
              " 'presentó',\n",
              " 'nombre',\n",
              " 'Melquíades',\n",
              " 'hizo',\n",
              " 'truculenta',\n",
              " 'demostración',\n",
              " 'pública',\n",
              " 'mismo',\n",
              " 'llamaba',\n",
              " 'octava',\n",
              " 'maravilla',\n",
              " 'sabios',\n",
              " 'alquimistas',\n",
              " 'Macedonia',\n",
              " 'Fue',\n",
              " 'casa',\n",
              " 'casa',\n",
              " 'arrastrando',\n",
              " 'dos',\n",
              " 'lingotes',\n",
              " 'metálicos',\n",
              " 'mundo',\n",
              " 'espantó',\n",
              " 'ver',\n",
              " 'calderos',\n",
              " 'pailas',\n",
              " 'tenazas',\n",
              " 'anafes',\n",
              " 'caían',\n",
              " 'sitio',\n",
              " 'maderas',\n",
              " 'crujían',\n",
              " 'desesperación',\n",
              " 'clavos',\n",
              " 'tornillos',\n",
              " 'tratando',\n",
              " 'desenclavarse',\n",
              " 'aun',\n",
              " 'objetos',\n",
              " 'perdidos',\n",
              " 'hacía',\n",
              " 'tiempo',\n",
              " 'aparecían',\n",
              " 'buscado',\n",
              " 'arrastraban',\n",
              " 'desbandada',\n",
              " 'turbulenta',\n",
              " 'detrás',\n",
              " 'fierros',\n",
              " 'mágicos',\n",
              " 'Melquíades',\n",
              " 'Las',\n",
              " 'cosas',\n",
              " 'vida',\n",
              " 'propia',\n",
              " 'pregonaba',\n",
              " 'gitano',\n",
              " 'áspero',\n",
              " 'acento',\n",
              " 'cuestión',\n",
              " 'despertarles',\n",
              " 'ánima',\n",
              " 'José',\n",
              " 'Arcadio',\n",
              " 'Buendía',\n",
              " 'cuya',\n",
              " 'desaforada',\n",
              " 'imaginación',\n",
              " 'iba',\n",
              " 'siempre',\n",
              " 'lejos',\n",
              " 'ingenio',\n",
              " 'naturaleza',\n",
              " 'aun',\n",
              " 'allá',\n",
              " 'milagro',\n",
              " 'magia',\n",
              " 'pensó',\n",
              " 'posible',\n",
              " 'servirse',\n",
              " 'aquella',\n",
              " 'invención',\n",
              " 'inútil',\n",
              " 'desentrañar',\n",
              " 'oro',\n",
              " 'tierra',\n",
              " 'Melquíades',\n",
              " 'hombre',\n",
              " 'honrado',\n",
              " 'previno',\n",
              " 'Para',\n",
              " 'sirve',\n",
              " 'Pero',\n",
              " 'José',\n",
              " 'Arcadio',\n",
              " 'Buendía',\n",
              " 'creía',\n",
              " 'aquel',\n",
              " 'tiempo',\n",
              " 'honradez',\n",
              " 'gitanos',\n",
              " 'así',\n",
              " 'cambió',\n",
              " 'mulo',\n",
              " 'partida',\n",
              " 'chivos',\n",
              " 'dos',\n",
              " 'lingotes',\n",
              " 'imantados',\n",
              " 'Úrsula',\n",
              " 'Iguarán',\n",
              " 'mujer',\n",
              " 'contaba',\n",
              " 'aquellos',\n",
              " 'animales',\n",
              " 'ensanchar',\n",
              " 'desmedrado',\n",
              " 'patrimonio',\n",
              " 'doméstico',\n",
              " 'consiguió',\n",
              " 'disuadirlo',\n",
              " 'Muy',\n",
              " 'pronto',\n",
              " 'sobrarnos',\n",
              " 'oro',\n",
              " 'empedrar',\n",
              " 'casa',\n",
              " 'replicó',\n",
              " 'marido',\n",
              " 'Durante',\n",
              " 'varios',\n",
              " 'meses',\n",
              " 'empeñó',\n",
              " 'demostrar',\n",
              " 'acierto',\n",
              " 'conjeturas',\n",
              " 'Exploró',\n",
              " 'palmo',\n",
              " 'palmo',\n",
              " 'región',\n",
              " 'inclusive',\n",
              " 'fondo',\n",
              " 'río',\n",
              " 'arrastrando',\n",
              " 'dos',\n",
              " 'lingotes',\n",
              " 'hierro',\n",
              " 'recitando',\n",
              " 'voz',\n",
              " 'alta',\n",
              " 'conjuro',\n",
              " 'Melquíades',\n",
              " 'Lo',\n",
              " 'único',\n",
              " 'logró',\n",
              " 'desenterrar',\n",
              " 'armadura',\n",
              " 'siglo',\n",
              " 'XV',\n",
              " 'todas',\n",
              " 'partes',\n",
              " 'soldadas',\n",
              " 'cascote',\n",
              " 'óxido',\n",
              " 'cuyo',\n",
              " 'interior',\n",
              " 'resonancia',\n",
              " 'hueca',\n",
              " 'enorme',\n",
              " 'calabazo',\n",
              " 'lleno',\n",
              " 'piedras',\n",
              " 'Cuando',\n",
              " 'José',\n",
              " 'Arcadio',\n",
              " 'Buendía',\n",
              " 'cuatro',\n",
              " 'hombres',\n",
              " 'expedición',\n",
              " 'lograron',\n",
              " 'desarticular',\n",
              " 'armadura',\n",
              " 'encontraron',\n",
              " 'dentro',\n",
              " 'esqueleto',\n",
              " 'calcificado',\n",
              " 'llevaba',\n",
              " 'colgado',\n",
              " 'cuello',\n",
              " 'relicario',\n",
              " 'cobre',\n",
              " 'rizo',\n",
              " 'mujer',\n",
              " 'En',\n",
              " 'marzo',\n",
              " 'volvieron',\n",
              " 'gitanos',\n",
              " 'Esta',\n",
              " 'vez',\n",
              " 'llevaban',\n",
              " 'catalejo',\n",
              " 'lupa',\n",
              " 'tamaño',\n",
              " 'tambor',\n",
              " 'exhibieron',\n",
              " 'último',\n",
              " 'descubrimiento',\n",
              " 'judíos',\n",
              " 'Amsterdam',\n",
              " 'Sentaron',\n",
              " 'gitana',\n",
              " 'extremo',\n",
              " 'aldea',\n",
              " 'instalaron',\n",
              " 'catalejo',\n",
              " 'entrada',\n",
              " 'carpa',\n",
              " 'Mediante',\n",
              " 'pago',\n",
              " 'cinco',\n",
              " 'reales',\n",
              " 'gente',\n",
              " 'asomaba',\n",
              " 'catalejo',\n",
              " 'veía',\n",
              " 'gitana',\n",
              " 'alcance',\n",
              " 'mano',\n",
              " 'La',\n",
              " 'ciencia',\n",
              " 'eliminado',\n",
              " 'distancias',\n",
              " 'pregonaba',\n",
              " 'Melquíades',\n",
              " 'Dentro',\n",
              " 'hombre',\n",
              " 'podrá',\n",
              " 'ver',\n",
              " 'ocurre',\n",
              " 'cualquier',\n",
              " 'lugar',\n",
              " 'tierra',\n",
              " 'moverse',\n",
              " 'casa',\n",
              " 'Un',\n",
              " 'mediodía',\n",
              " 'ardiente',\n",
              " 'hicieron',\n",
              " 'asombrosa',\n",
              " 'demostración',\n",
              " 'lupa',\n",
              " 'gigantesca',\n",
              " 'pusieron',\n",
              " 'montón',\n",
              " 'hierba',\n",
              " 'seca',\n",
              " 'mitad',\n",
              " 'calle',\n",
              " 'prendieron',\n",
              " 'fuego',\n",
              " 'mediante',\n",
              " 'concentración',\n",
              " 'rayos',\n",
              " 'solares',\n",
              " 'José',\n",
              " 'Arcadio',\n",
              " 'Buendía',\n",
              " 'aún',\n",
              " 'acababa',\n",
              " 'consolarse',\n",
              " 'fracaso',\n",
              " 'imanes',\n",
              " 'concibió',\n",
              " 'idea',\n",
              " 'utilizar',\n",
              " 'aquel',\n",
              " 'invento',\n",
              " 'arma',\n",
              " 'guerra',\n",
              " 'Melquíades',\n",
              " 'vez',\n",
              " 'trató',\n",
              " 'disuadirlo',\n",
              " 'Pero',\n",
              " 'terminó',\n",
              " 'aceptar',\n",
              " 'dos',\n",
              " 'lingotes',\n",
              " 'imantados',\n",
              " 'tres',\n",
              " 'piezas',\n",
              " 'dinero',\n",
              " 'colonial',\n",
              " 'cambio',\n",
              " 'lupa',\n",
              " 'Úrsula',\n",
              " 'lloró',\n",
              " 'consternación',\n",
              " 'Aquel',\n",
              " 'dinero',\n",
              " 'formaba',\n",
              " 'parte',\n",
              " 'cofre',\n",
              " 'monedas',\n",
              " 'oro',\n",
              " 'padre',\n",
              " 'acumulado',\n",
              " 'toda',\n",
              " 'vida',\n",
              " 'privaciones',\n",
              " 'enterrado',\n",
              " 'debajo',\n",
              " 'cama',\n",
              " 'espera',\n",
              " 'buena',\n",
              " 'ocasión',\n",
              " 'invertirlas',\n",
              " 'José',\n",
              " 'Arcadio',\n",
              " 'Buendía',\n",
              " 'trató',\n",
              " 'siquiera',\n",
              " 'consolarla',\n",
              " 'entregado',\n",
              " 'entero',\n",
              " 'experimentos',\n",
              " 'tácticos',\n",
              " 'abnegación',\n",
              " 'científico',\n",
              " 'aun',\n",
              " 'riesgo',\n",
              " 'propia',\n",
              " 'vida',\n",
              " 'Tratando',\n",
              " 'demostrar',\n",
              " 'efectos',\n",
              " 'lupa',\n",
              " 'tropa',\n",
              " 'enemiga',\n",
              " 'expuso',\n",
              " 'mismo',\n",
              " 'concentración',\n",
              " 'rayos',\n",
              " 'solares',\n",
              " 'sufrió',\n",
              " 'quemaduras',\n",
              " 'convirtieron',\n",
              " 'úlceras',\n",
              " 'tardaron',\n",
              " 'tiempo',\n",
              " 'sanar',\n",
              " 'Ante',\n",
              " 'protestas',\n",
              " 'mujer',\n",
              " 'alarmada',\n",
              " 'tan',\n",
              " 'peligrosa',\n",
              " 'inventiva',\n",
              " 'punto',\n",
              " 'incendiar',\n",
              " 'casa',\n",
              " 'Pasaba',\n",
              " 'largas',\n",
              " 'horas',\n",
              " 'cuarto',\n",
              " 'haciendo',\n",
              " 'cálculos',\n",
              " 'posibilidades',\n",
              " 'estratégicas',\n",
              " 'arma',\n",
              " 'novedosa',\n",
              " 'logró',\n",
              " 'componer',\n",
              " 'manual',\n",
              " 'asombrosa',\n",
              " 'claridad',\n",
              " 'didáctica',\n",
              " 'poder',\n",
              " 'convicción',\n",
              " 'irresistible',\n",
              " 'Lo',\n",
              " 'envió',\n",
              " 'autoridades',\n",
              " 'acompañado',\n",
              " 'numerosos',\n",
              " 'testimonios',\n",
              " 'experiencias',\n",
              " 'varios',\n",
              " 'pliegos',\n",
              " 'dibujos',\n",
              " 'explicativos',\n",
              " 'cuidado',\n",
              " 'mensajero',\n",
              " 'atravesó',\n",
              " 'sierra',\n",
              " 'extravió',\n",
              " 'pantanos',\n",
              " 'desmesurados',\n",
              " 'remontó',\n",
              " 'ríos',\n",
              " 'tormentosos',\n",
              " 'punto',\n",
              " 'perecer',\n",
              " 'bajo',\n",
              " 'azote',\n",
              " 'fieras',\n",
              " 'desesperación',\n",
              " 'peste',\n",
              " 'conseguir',\n",
              " 'ruta',\n",
              " 'enlace',\n",
              " 'mulas',\n",
              " 'correo',\n",
              " 'A',\n",
              " 'pesar',\n",
              " 'viaje',\n",
              " 'capital',\n",
              " 'aquel',\n",
              " 'tiempo',\n",
              " 'menos',\n",
              " 'imposible',\n",
              " 'José',\n",
              " 'Arcadio',\n",
              " 'Buendía',\n",
              " 'prometía',\n",
              " 'intentarlo',\n",
              " 'tan',\n",
              " 'pronto',\n",
              " 'ordenara',\n",
              " 'gobierno',\n",
              " 'fin',\n",
              " 'hacer',\n",
              " 'demostraciones',\n",
              " 'prácticas',\n",
              " 'invento',\n",
              " 'poderes',\n",
              " 'militares',\n",
              " 'adiestrarlos',\n",
              " 'personalmente',\n",
              " 'complicadas',\n",
              " 'artes',\n",
              " 'guerra',\n",
              " 'solar',\n",
              " 'Durante',\n",
              " 'varios',\n",
              " 'años',\n",
              " 'esperó',\n",
              " 'respuesta',\n",
              " 'Por',\n",
              " 'último',\n",
              " 'cansado',\n",
              " 'esperar',\n",
              " 'lamentó',\n",
              " 'Melquíades',\n",
              " 'fracaso',\n",
              " 'iniciativa',\n",
              " 'gitano',\n",
              " 'dio',\n",
              " 'entonces',\n",
              " 'prueba',\n",
              " 'convincente',\n",
              " 'honradez',\n",
              " 'devolvió',\n",
              " 'doblones',\n",
              " 'cambio',\n",
              " 'lupa',\n",
              " 'dejó',\n",
              " 'además',\n",
              " 'mapas',\n",
              " 'portugueses',\n",
              " 'varios',\n",
              " 'instrumentos',\n",
              " 'navegación',\n",
              " 'De',\n",
              " 'puño',\n",
              " 'letra',\n",
              " 'escribió',\n",
              " 'apretada',\n",
              " 'síntesis',\n",
              " 'estudios',\n",
              " 'monje',\n",
              " 'Hermann',\n",
              " 'dejó',\n",
              " 'disposición',\n",
              " 'pudiera',\n",
              " 'servirse',\n",
              " 'astrolabio',\n",
              " 'brújula',\n",
              " 'sextante',\n",
              " 'José',\n",
              " 'Arcadio',\n",
              " 'Buendía',\n",
              " 'pasó',\n",
              " 'largos',\n",
              " 'meses',\n",
              " 'lluvia',\n",
              " 'encerrado',\n",
              " 'cuartito',\n",
              " 'construyó',\n",
              " 'fondo',\n",
              " 'casa',\n",
              " 'nadie',\n",
              " 'perturbara',\n",
              " 'experimentos',\n",
              " 'Habiendo',\n",
              " 'abandonado',\n",
              " 'completo',\n",
              " 'obligaciones',\n",
              " 'domésticas',\n",
              " 'permaneció',\n",
              " 'noches',\n",
              " 'enteras',\n",
              " 'patio',\n",
              " 'vigilando',\n",
              " 'curso',\n",
              " 'astros',\n",
              " 'punto',\n",
              " 'contraer',\n",
              " 'insolación',\n",
              " 'tratar',\n",
              " 'establecer',\n",
              " 'método',\n",
              " 'exacto',\n",
              " 'encontrar',\n",
              " 'mediodía',\n",
              " 'Cuando',\n",
              " 'hizo',\n",
              " 'experto',\n",
              " 'uso',\n",
              " 'manejo',\n",
              " 'instrumentos',\n",
              " 'noción',\n",
              " 'espacio',\n",
              " 'permitió',\n",
              " 'navegar',\n",
              " 'mares',\n",
              " 'incógnitos',\n",
              " 'visitar',\n",
              " 'territorios',\n",
              " 'deshabitados',\n",
              " 'trabar',\n",
              " 'relación',\n",
              " 'seres',\n",
              " 'espléndidos',\n",
              " 'necesidad',\n",
              " 'abandonar',\n",
              " 'gabinete',\n",
              " 'Fue',\n",
              " 'época',\n",
              " 'adquirió',\n",
              " 'hábito',\n",
              " 'hablar',\n",
              " 'solas',\n",
              " 'paseándose',\n",
              " 'casa',\n",
              " 'hacer',\n",
              " 'caso',\n",
              " 'nadie',\n",
              " 'mientras',\n",
              " 'Úrsula',\n",
              " 'niños',\n",
              " 'partían',\n",
              " 'espinazo',\n",
              " 'huerta',\n",
              " 'cuidando',\n",
              " 'plátano',\n",
              " 'malanga',\n",
              " 'yuca',\n",
              " 'ñame',\n",
              " 'ahuyama',\n",
              " 'berenjena',\n",
              " 'De',\n",
              " 'pronto',\n",
              " 'ningún',\n",
              " 'anuncio',\n",
              " 'actividad',\n",
              " 'febril',\n",
              " 'interrumpió',\n",
              " 'sustituida',\n",
              " 'especie',\n",
              " 'fascinación',\n",
              " 'Estuvo',\n",
              " 'varios',\n",
              " 'días',\n",
              " 'hechizado',\n",
              " 'repitiéndose',\n",
              " 'mismo',\n",
              " 'voz',\n",
              " 'baja',\n",
              " 'sartal',\n",
              " 'asombrosas',\n",
              " 'conjeturas',\n",
              " 'dar',\n",
              " 'crédito',\n",
              " 'propio',\n",
              " 'entendimiento',\n",
              " 'Por',\n",
              " 'fin',\n",
              " 'martes',\n",
              " 'diciembre',\n",
              " 'hora',\n",
              " 'almuerzo',\n",
              " 'soltó',\n",
              " 'golpe',\n",
              " 'toda',\n",
              " 'carga',\n",
              " 'tormento',\n",
              " 'Los',\n",
              " 'niños',\n",
              " 'recordar',\n",
              " 'resto',\n",
              " 'vida',\n",
              " 'augusta',\n",
              " 'solemnidad',\n",
              " 'padre',\n",
              " 'sentó',\n",
              " 'cabecera',\n",
              " 'mesa',\n",
              " 'temblando',\n",
              " 'fiebre',\n",
              " 'devastado',\n",
              " 'prolongada',\n",
              " 'vigilia',\n",
              " 'encono',\n",
              " 'imaginación',\n",
              " 'reveló',\n",
              " 'descubrimiento',\n",
              " 'La',\n",
              " 'tierra',\n",
              " 'redonda',\n",
              " 'naranja',\n",
              " 'Úrsula',\n",
              " 'perdió',\n",
              " 'paciencia',\n",
              " 'Si',\n",
              " 'volverte',\n",
              " 'loco',\n",
              " 'vuélvete',\n",
              " 'solo',\n",
              " 'gritó',\n",
              " 'Pero',\n",
              " 'trates',\n",
              " 'inculcar',\n",
              " 'niños',\n",
              " 'ideas',\n",
              " 'gitano',\n",
              " 'José',\n",
              " 'Arcadio',\n",
              " 'Buendía',\n",
              " 'impasible',\n",
              " 'dejó',\n",
              " 'amedrentar',\n",
              " 'desesperación',\n",
              " 'mujer',\n",
              " 'rapto',\n",
              " 'cólera',\n",
              " 'destrozó',\n",
              " 'astrolabio',\n",
              " 'suelo',\n",
              " 'Construyó',\n",
              " 'reunió',\n",
              " 'cuartito',\n",
              " 'hombres',\n",
              " 'pueblo',\n",
              " 'demostró',\n",
              " 'teorías',\n",
              " 'resultaban',\n",
              " 'incomprensibles',\n",
              " 'posibilidad',\n",
              " 'regresar',\n",
              " 'punto',\n",
              " 'partida',\n",
              " 'navegando',\n",
              " 'siempre',\n",
              " 'hacia',\n",
              " 'Oriente',\n",
              " 'Toda',\n",
              " 'aldea',\n",
              " 'convencida',\n",
              " 'José',\n",
              " 'Arcadio',\n",
              " 'Buendía',\n",
              " 'perdido',\n",
              " 'juicio',\n",
              " 'llegó',\n",
              " 'Melquíades',\n",
              " 'poner',\n",
              " 'cosas',\n",
              " 'punto',\n",
              " 'Exaltó',\n",
              " 'público',\n",
              " 'inteligencia',\n",
              " 'aquel',\n",
              " 'hombre',\n",
              " 'pura',\n",
              " 'especulación',\n",
              " 'astronómica',\n",
              " 'construido',\n",
              " 'teoría',\n",
              " 'comprobada',\n",
              " 'práctica',\n",
              " 'aunque',\n",
              " 'desconocida',\n",
              " 'entonces',\n",
              " 'Macondo',\n",
              " 'prueba',\n",
              " 'admiración',\n",
              " 'hizo',\n",
              " 'regalo',\n",
              " 'ejercer',\n",
              " 'influencia',\n",
              " 'terminante',\n",
              " 'futuro',\n",
              " 'aldea',\n",
              " 'laboratorio',\n",
              " 'alquimia',\n",
              " 'Para',\n",
              " 'época',\n",
              " 'Melquíades',\n",
              " 'envejecido',\n",
              " 'rapidez',\n",
              " 'asombrosa',\n",
              " 'En',\n",
              " 'primeros',\n",
              " 'viajes',\n",
              " 'parecía',\n",
              " 'tener',\n",
              " 'misma',\n",
              " 'edad',\n",
              " 'José',\n",
              " 'Arcadio',\n",
              " 'Buendía',\n",
              " 'Pero',\n",
              " 'mientras',\n",
              " 'éste',\n",
              " 'conservaba',\n",
              " 'fuerza',\n",
              " 'descomunal',\n",
              " 'permitía',\n",
              " 'derribar',\n",
              " 'caballo',\n",
              " 'agarrándolo',\n",
              " 'orejas',\n",
              " 'gitano',\n",
              " 'parecía',\n",
              " 'estragado',\n",
              " 'dolencia',\n",
              " 'tenaz',\n",
              " 'Era',\n",
              " 'realidad',\n",
              " 'resultado',\n",
              " 'múltiples',\n",
              " 'raras',\n",
              " 'enfermedades',\n",
              " 'contraídas',\n",
              " 'incontables',\n",
              " 'viajes',\n",
              " 'alrededor',\n",
              " 'mundo',\n",
              " 'Según',\n",
              " 'mismo',\n",
              " 'contó',\n",
              " 'José',\n",
              " 'Arcadio',\n",
              " 'Buendía',\n",
              " 'mientras',\n",
              " 'ayudaba',\n",
              " 'montar',\n",
              " 'laboratorio',\n",
              " 'muerte',\n",
              " 'seguía',\n",
              " 'todas',\n",
              " 'partes',\n",
              " 'husmeándole',\n",
              " 'pantalones',\n",
              " 'decidirse',\n",
              " 'darle',\n",
              " 'zarpazo',\n",
              " 'final',\n",
              " 'Era',\n",
              " 'fugitivo',\n",
              " 'cuantas',\n",
              " 'plagas',\n",
              " 'catástrofes',\n",
              " 'flagelado',\n",
              " 'género',\n",
              " 'humano',\n",
              " 'Sobrevivió',\n",
              " 'pelagra',\n",
              " 'Persia',\n",
              " 'escorbuto',\n",
              " 'archipiélago',\n",
              " 'Malasia',\n",
              " 'lepra',\n",
              " 'Alejandría',\n",
              " 'beriberi',\n",
              " 'Japón',\n",
              " 'peste',\n",
              " 'bubónica',\n",
              " 'Madagascar',\n",
              " 'terremoto',\n",
              " 'Sicilia',\n",
              " 'naufragio',\n",
              " 'multitudinario',\n",
              " 'estrecho',\n",
              " 'Magallanes',\n",
              " 'Aquel',\n",
              " 'ser',\n",
              " 'prodigioso',\n",
              " 'decía',\n",
              " 'poseer',\n",
              " 'claves',\n",
              " 'Nostradamus',\n",
              " 'hombre',\n",
              " 'lúgubre',\n",
              " 'envuelto',\n",
              " 'aura',\n",
              " 'triste',\n",
              " 'mirada',\n",
              " 'asiática',\n",
              " 'parecía',\n",
              " 'conocer',\n",
              " 'lado',\n",
              " 'cosas',\n",
              " 'Usaba',\n",
              " 'sombrero',\n",
              " 'grande',\n",
              " 'negro',\n",
              " 'alas',\n",
              " 'extendidas',\n",
              " 'cuervo',\n",
              " 'chaleco',\n",
              " 'terciopelo',\n",
              " 'patinado',\n",
              " 'verdín',\n",
              " 'siglos',\n",
              " 'Pero',\n",
              " 'pesar',\n",
              " 'inmensa',\n",
              " 'sabiduría',\n",
              " 'ámbito',\n",
              " 'misterioso',\n",
              " 'peso',\n",
              " 'humano',\n",
              " 'condición',\n",
              " 'terrestre',\n",
              " 'mantenía',\n",
              " 'enredado',\n",
              " 'minúsculos',\n",
              " 'problemas',\n",
              " 'vida',\n",
              " 'cotidiana',\n",
              " 'Se',\n",
              " 'quejaba',\n",
              " 'dolencias',\n",
              " 'viejo',\n",
              " 'sufría',\n",
              " 'insignificantes',\n",
              " 'percances',\n",
              " 'económicos',\n",
              " 'dejado',\n",
              " 'reír',\n",
              " 'hacía',\n",
              " 'tiempo',\n",
              " 'escorbuto',\n",
              " 'arrancado',\n",
              " 'dientes',\n",
              " 'El',\n",
              " 'sofocante',\n",
              " 'mediodía',\n",
              " 'reveló',\n",
              " 'secretos',\n",
              " 'José',\n",
              " 'Arcadio',\n",
              " 'Buendía',\n",
              " 'certidumbre',\n",
              " 'aquel',\n",
              " 'principio',\n",
              " 'grande',\n",
              " 'amistad',\n",
              " 'Los',\n",
              " 'niños',\n",
              " 'asombraron',\n",
              " 'relatos',\n",
              " 'fantásticos',\n",
              " 'Aureliano',\n",
              " 'entonces',\n",
              " 'cinco',\n",
              " 'años',\n",
              " 'recordarlo',\n",
              " 'resto',\n",
              " 'vida',\n",
              " 'vio',\n",
              " 'aquella',\n",
              " 'tarde',\n",
              " 'sentado',\n",
              " 'claridad',\n",
              " 'metálica',\n",
              " 'reverberante',\n",
              " 'ventana',\n",
              " 'alumbrando',\n",
              " 'profunda',\n",
              " 'voz',\n",
              " 'órgano',\n",
              " 'territorios',\n",
              " 'oscuros',\n",
              " 'imaginación',\n",
              " 'mientras',\n",
              " 'chorreaba',\n",
              " 'sienes',\n",
              " 'grasa',\n",
              " 'derretida',\n",
              " 'calor',\n",
              " 'José',\n",
              " 'Arcadio',\n",
              " 'hermano',\n",
              " 'mayor',\n",
              " 'transmitir',\n",
              " 'aquella',\n",
              " 'imagen',\n",
              " 'maravillosa',\n",
              " 'recuerdo',\n",
              " 'hereditario',\n",
              " ...]"
            ]
          },
          "metadata": {},
          "execution_count": 9
        }
      ],
      "source": [
        "tokens[:-20]"
      ]
    },
    {
      "cell_type": "code",
      "execution_count": 10,
      "id": "8516685b-7a9e-4718-aaa1-200a14a738f2",
      "metadata": {
        "id": "8516685b-7a9e-4718-aaa1-200a14a738f2"
      },
      "outputs": [],
      "source": [
        "counts = Counter(tokens)"
      ]
    },
    {
      "cell_type": "code",
      "execution_count": 10,
      "id": "1c35a613-52c3-4eff-95e5-59d849fbbd77",
      "metadata": {
        "id": "1c35a613-52c3-4eff-95e5-59d849fbbd77",
        "collapsed": true,
        "colab": {
          "base_uri": "https://localhost:8080/"
        },
        "outputId": "39e8e5fe-816c-4997-d8cb-c6e758d736bb"
      },
      "outputs": [
        {
          "output_type": "execute_result",
          "data": {
            "text/plain": [
              "Counter({'Muchos': 2,\n",
              "         'años': 13,\n",
              "         'después': 2,\n",
              "         'frente': 2,\n",
              "         'pelotón': 2,\n",
              "         'fusilamiento': 2,\n",
              "         'coronel': 3,\n",
              "         'Aureliano': 8,\n",
              "         'Buendía': 40,\n",
              "         'recordar': 2,\n",
              "         'aquella': 11,\n",
              "         'tarde': 6,\n",
              "         'remota': 1,\n",
              "         'padre': 8,\n",
              "         'llevó': 4,\n",
              "         'conocer': 5,\n",
              "         'hielo': 3,\n",
              "         'Macondo': 13,\n",
              "         'entonces': 10,\n",
              "         'aldea': 15,\n",
              "         'veinte': 1,\n",
              "         'casas': 2,\n",
              "         'barro': 2,\n",
              "         'cañabrava': 1,\n",
              "         'construidas': 1,\n",
              "         'orilla': 1,\n",
              "         'río': 5,\n",
              "         'aguas': 1,\n",
              "         'diáfanas': 1,\n",
              "         'precipitaban': 1,\n",
              "         'lecho': 1,\n",
              "         'piedras': 3,\n",
              "         'pulidas': 1,\n",
              "         'blancas': 1,\n",
              "         'enormes': 1,\n",
              "         'huevos': 2,\n",
              "         'prehistóricos': 1,\n",
              "         'El': 11,\n",
              "         'mundo': 11,\n",
              "         'tan': 10,\n",
              "         'reciente': 1,\n",
              "         'muchas': 1,\n",
              "         'cosas': 9,\n",
              "         'carecían': 1,\n",
              "         'nombre': 2,\n",
              "         'mencionarlas': 1,\n",
              "         'señalarlas': 1,\n",
              "         'dedo': 1,\n",
              "         'Todos': 1,\n",
              "         'mes': 1,\n",
              "         'marzo': 4,\n",
              "         'familia': 1,\n",
              "         'gitanos': 13,\n",
              "         'desarrapados': 1,\n",
              "         'plantaba': 1,\n",
              "         'carpa': 4,\n",
              "         'cerca': 1,\n",
              "         'grande': 6,\n",
              "         'alboroto': 1,\n",
              "         'pitos': 1,\n",
              "         'timbales': 1,\n",
              "         'daban': 1,\n",
              "         'nuevos': 2,\n",
              "         'inventos': 2,\n",
              "         'Primero': 1,\n",
              "         'llevaron': 1,\n",
              "         'imán': 1,\n",
              "         'Un': 2,\n",
              "         'gitano': 9,\n",
              "         'corpulento': 1,\n",
              "         'barba': 2,\n",
              "         'montaraz': 1,\n",
              "         'manos': 2,\n",
              "         'gorrión': 1,\n",
              "         'presentó': 1,\n",
              "         'Melquíades': 23,\n",
              "         'hizo': 6,\n",
              "         'truculenta': 1,\n",
              "         'demostración': 2,\n",
              "         'pública': 1,\n",
              "         'mismo': 9,\n",
              "         'llamaba': 1,\n",
              "         'octava': 1,\n",
              "         'maravilla': 1,\n",
              "         'sabios': 3,\n",
              "         'alquimistas': 1,\n",
              "         'Macedonia': 1,\n",
              "         'Fue': 4,\n",
              "         'casa': 13,\n",
              "         'arrastrando': 2,\n",
              "         'dos': 7,\n",
              "         'lingotes': 4,\n",
              "         'metálicos': 1,\n",
              "         'espantó': 1,\n",
              "         'ver': 3,\n",
              "         'calderos': 1,\n",
              "         'pailas': 1,\n",
              "         'tenazas': 1,\n",
              "         'anafes': 1,\n",
              "         'caían': 1,\n",
              "         'sitio': 1,\n",
              "         'maderas': 1,\n",
              "         'crujían': 1,\n",
              "         'desesperación': 3,\n",
              "         'clavos': 1,\n",
              "         'tornillos': 1,\n",
              "         'tratando': 2,\n",
              "         'desenclavarse': 1,\n",
              "         'aun': 4,\n",
              "         'objetos': 1,\n",
              "         'perdidos': 2,\n",
              "         'hacía': 4,\n",
              "         'tiempo': 14,\n",
              "         'aparecían': 1,\n",
              "         'buscado': 2,\n",
              "         'arrastraban': 1,\n",
              "         'desbandada': 1,\n",
              "         'turbulenta': 1,\n",
              "         'detrás': 1,\n",
              "         'fierros': 1,\n",
              "         'mágicos': 3,\n",
              "         'Las': 1,\n",
              "         'vida': 9,\n",
              "         'propia': 4,\n",
              "         'pregonaba': 2,\n",
              "         'áspero': 2,\n",
              "         'acento': 1,\n",
              "         'cuestión': 1,\n",
              "         'despertarles': 1,\n",
              "         'ánima': 1,\n",
              "         'José': 39,\n",
              "         'Arcadio': 39,\n",
              "         'cuya': 2,\n",
              "         'desaforada': 1,\n",
              "         'imaginación': 6,\n",
              "         'iba': 2,\n",
              "         'siempre': 9,\n",
              "         'lejos': 1,\n",
              "         'ingenio': 1,\n",
              "         'naturaleza': 1,\n",
              "         'allá': 1,\n",
              "         'milagro': 1,\n",
              "         'magia': 1,\n",
              "         'pensó': 1,\n",
              "         'posible': 3,\n",
              "         'servirse': 2,\n",
              "         'invención': 1,\n",
              "         'inútil': 1,\n",
              "         'desentrañar': 1,\n",
              "         'oro': 8,\n",
              "         'tierra': 8,\n",
              "         'hombre': 8,\n",
              "         'honrado': 1,\n",
              "         'previno': 1,\n",
              "         'Para': 2,\n",
              "         'sirve': 1,\n",
              "         'Pero': 12,\n",
              "         'creía': 1,\n",
              "         'aquel': 8,\n",
              "         'honradez': 2,\n",
              "         'así': 2,\n",
              "         'cambió': 1,\n",
              "         'mulo': 1,\n",
              "         'partida': 2,\n",
              "         'chivos': 2,\n",
              "         'imantados': 2,\n",
              "         'Úrsula': 25,\n",
              "         'Iguarán': 1,\n",
              "         'mujer': 8,\n",
              "         'contaba': 1,\n",
              "         'aquellos': 1,\n",
              "         'animales': 4,\n",
              "         'ensanchar': 1,\n",
              "         'desmedrado': 1,\n",
              "         'patrimonio': 1,\n",
              "         'doméstico': 1,\n",
              "         'consiguió': 1,\n",
              "         'disuadirlo': 2,\n",
              "         'Muy': 1,\n",
              "         'pronto': 5,\n",
              "         'sobrarnos': 1,\n",
              "         'empedrar': 1,\n",
              "         'replicó': 3,\n",
              "         'marido': 4,\n",
              "         'Durante': 3,\n",
              "         'varios': 8,\n",
              "         'meses': 5,\n",
              "         'empeñó': 1,\n",
              "         'demostrar': 2,\n",
              "         'acierto': 1,\n",
              "         'conjeturas': 2,\n",
              "         'Exploró': 1,\n",
              "         'palmo': 2,\n",
              "         'región': 5,\n",
              "         'inclusive': 1,\n",
              "         'fondo': 5,\n",
              "         'hierro': 2,\n",
              "         'recitando': 1,\n",
              "         'voz': 3,\n",
              "         'alta': 1,\n",
              "         'conjuro': 2,\n",
              "         'Lo': 6,\n",
              "         'único': 3,\n",
              "         'logró': 2,\n",
              "         'desenterrar': 2,\n",
              "         'armadura': 3,\n",
              "         'siglo': 1,\n",
              "         'XV': 1,\n",
              "         'todas': 8,\n",
              "         'partes': 5,\n",
              "         'soldadas': 1,\n",
              "         'cascote': 1,\n",
              "         'óxido': 1,\n",
              "         'cuyo': 1,\n",
              "         'interior': 4,\n",
              "         'resonancia': 2,\n",
              "         'hueca': 1,\n",
              "         'enorme': 3,\n",
              "         'calabazo': 1,\n",
              "         'lleno': 1,\n",
              "         'Cuando': 4,\n",
              "         'cuatro': 2,\n",
              "         'hombres': 9,\n",
              "         'expedición': 3,\n",
              "         'lograron': 2,\n",
              "         'desarticular': 1,\n",
              "         'encontraron': 3,\n",
              "         'dentro': 1,\n",
              "         'esqueleto': 1,\n",
              "         'calcificado': 1,\n",
              "         'llevaba': 2,\n",
              "         'colgado': 1,\n",
              "         'cuello': 2,\n",
              "         'relicario': 1,\n",
              "         'cobre': 3,\n",
              "         'rizo': 1,\n",
              "         'En': 13,\n",
              "         'volvieron': 3,\n",
              "         'Esta': 1,\n",
              "         'vez': 12,\n",
              "         'llevaban': 1,\n",
              "         'catalejo': 3,\n",
              "         'lupa': 5,\n",
              "         'tamaño': 1,\n",
              "         'tambor': 1,\n",
              "         'exhibieron': 1,\n",
              "         'último': 4,\n",
              "         'descubrimiento': 3,\n",
              "         'judíos': 1,\n",
              "         'Amsterdam': 1,\n",
              "         'Sentaron': 1,\n",
              "         'gitana': 2,\n",
              "         'extremo': 2,\n",
              "         'instalaron': 1,\n",
              "         'entrada': 3,\n",
              "         'Mediante': 1,\n",
              "         'pago': 2,\n",
              "         'cinco': 3,\n",
              "         'reales': 5,\n",
              "         'gente': 2,\n",
              "         'asomaba': 1,\n",
              "         'veía': 1,\n",
              "         'alcance': 1,\n",
              "         'mano': 8,\n",
              "         'La': 7,\n",
              "         'ciencia': 2,\n",
              "         'eliminado': 1,\n",
              "         'distancias': 1,\n",
              "         'Dentro': 2,\n",
              "         'podrá': 1,\n",
              "         'ocurre': 1,\n",
              "         'cualquier': 1,\n",
              "         'lugar': 6,\n",
              "         'moverse': 1,\n",
              "         'mediodía': 3,\n",
              "         'ardiente': 1,\n",
              "         'hicieron': 2,\n",
              "         'asombrosa': 3,\n",
              "         'gigantesca': 1,\n",
              "         'pusieron': 1,\n",
              "         'montón': 1,\n",
              "         'hierba': 1,\n",
              "         'seca': 1,\n",
              "         'mitad': 2,\n",
              "         'calle': 1,\n",
              "         'prendieron': 1,\n",
              "         'fuego': 3,\n",
              "         'mediante': 2,\n",
              "         'concentración': 2,\n",
              "         'rayos': 2,\n",
              "         'solares': 2,\n",
              "         'aún': 1,\n",
              "         'acababa': 1,\n",
              "         'consolarse': 1,\n",
              "         'fracaso': 2,\n",
              "         'imanes': 2,\n",
              "         'concibió': 1,\n",
              "         'idea': 2,\n",
              "         'utilizar': 1,\n",
              "         'invento': 3,\n",
              "         'arma': 2,\n",
              "         'guerra': 2,\n",
              "         'trató': 2,\n",
              "         'terminó': 1,\n",
              "         'aceptar': 1,\n",
              "         'tres': 3,\n",
              "         'piezas': 2,\n",
              "         'dinero': 2,\n",
              "         'colonial': 1,\n",
              "         'cambio': 4,\n",
              "         'lloró': 1,\n",
              "         'consternación': 1,\n",
              "         'Aquel': 4,\n",
              "         'formaba': 1,\n",
              "         'parte': 5,\n",
              "         'cofre': 3,\n",
              "         'monedas': 2,\n",
              "         'acumulado': 1,\n",
              "         'toda': 8,\n",
              "         'privaciones': 1,\n",
              "         'enterrado': 1,\n",
              "         'debajo': 1,\n",
              "         'cama': 1,\n",
              "         'espera': 1,\n",
              "         'buena': 3,\n",
              "         'ocasión': 1,\n",
              "         'invertirlas': 1,\n",
              "         'siquiera': 1,\n",
              "         'consolarla': 1,\n",
              "         'entregado': 1,\n",
              "         'entero': 1,\n",
              "         'experimentos': 2,\n",
              "         'tácticos': 1,\n",
              "         'abnegación': 1,\n",
              "         'científico': 1,\n",
              "         'riesgo': 1,\n",
              "         'Tratando': 1,\n",
              "         'efectos': 1,\n",
              "         'tropa': 1,\n",
              "         'enemiga': 1,\n",
              "         'expuso': 1,\n",
              "         'sufrió': 2,\n",
              "         'quemaduras': 1,\n",
              "         'convirtieron': 1,\n",
              "         'úlceras': 1,\n",
              "         'tardaron': 1,\n",
              "         'sanar': 1,\n",
              "         'Ante': 1,\n",
              "         'protestas': 1,\n",
              "         'alarmada': 2,\n",
              "         'peligrosa': 1,\n",
              "         'inventiva': 1,\n",
              "         'punto': 7,\n",
              "         'incendiar': 1,\n",
              "         'Pasaba': 1,\n",
              "         'largas': 1,\n",
              "         'horas': 2,\n",
              "         'cuarto': 3,\n",
              "         'haciendo': 2,\n",
              "         'cálculos': 3,\n",
              "         'posibilidades': 1,\n",
              "         'estratégicas': 1,\n",
              "         'novedosa': 1,\n",
              "         'componer': 1,\n",
              "         'manual': 1,\n",
              "         'claridad': 3,\n",
              "         'didáctica': 1,\n",
              "         'poder': 2,\n",
              "         'convicción': 1,\n",
              "         'irresistible': 1,\n",
              "         'envió': 1,\n",
              "         'autoridades': 1,\n",
              "         'acompañado': 1,\n",
              "         'numerosos': 1,\n",
              "         'testimonios': 1,\n",
              "         'experiencias': 1,\n",
              "         'pliegos': 1,\n",
              "         'dibujos': 2,\n",
              "         'explicativos': 1,\n",
              "         'cuidado': 1,\n",
              "         'mensajero': 1,\n",
              "         'atravesó': 1,\n",
              "         'sierra': 5,\n",
              "         'extravió': 1,\n",
              "         'pantanos': 2,\n",
              "         'desmesurados': 1,\n",
              "         'remontó': 1,\n",
              "         'ríos': 1,\n",
              "         'tormentosos': 1,\n",
              "         'perecer': 1,\n",
              "         'bajo': 4,\n",
              "         'azote': 1,\n",
              "         'fieras': 1,\n",
              "         'peste': 2,\n",
              "         'conseguir': 1,\n",
              "         'ruta': 5,\n",
              "         'enlace': 1,\n",
              "         'mulas': 2,\n",
              "         'correo': 3,\n",
              "         'A': 2,\n",
              "         'pesar': 2,\n",
              "         'viaje': 2,\n",
              "         'capital': 1,\n",
              "         'menos': 1,\n",
              "         'imposible': 1,\n",
              "         'prometía': 1,\n",
              "         'intentarlo': 1,\n",
              "         'ordenara': 1,\n",
              "         'gobierno': 1,\n",
              "         'fin': 2,\n",
              "         'hacer': 3,\n",
              "         'demostraciones': 1,\n",
              "         'prácticas': 1,\n",
              "         'poderes': 2,\n",
              "         'militares': 1,\n",
              "         'adiestrarlos': 1,\n",
              "         'personalmente': 1,\n",
              "         'complicadas': 1,\n",
              "         'artes': 1,\n",
              "         'solar': 1,\n",
              "         'esperó': 1,\n",
              "         'respuesta': 2,\n",
              "         'Por': 3,\n",
              "         'cansado': 1,\n",
              "         'esperar': 1,\n",
              "         'lamentó': 1,\n",
              "         'iniciativa': 2,\n",
              "         'dio': 2,\n",
              "         'prueba': 3,\n",
              "         'convincente': 1,\n",
              "         'devolvió': 1,\n",
              "         'doblones': 2,\n",
              "         'dejó': 7,\n",
              "         'además': 1,\n",
              "         'mapas': 3,\n",
              "         'portugueses': 1,\n",
              "         'instrumentos': 4,\n",
              "         'navegación': 1,\n",
              "         'De': 6,\n",
              "         'puño': 1,\n",
              "         'letra': 2,\n",
              "         'escribió': 1,\n",
              "         'apretada': 1,\n",
              "         'síntesis': 1,\n",
              "         'estudios': 1,\n",
              "         'monje': 1,\n",
              "         'Hermann': 1,\n",
              "         'disposición': 1,\n",
              "         'pudiera': 1,\n",
              "         'astrolabio': 2,\n",
              "         'brújula': 2,\n",
              "         'sextante': 1,\n",
              "         'pasó': 1,\n",
              "         'largos': 1,\n",
              "         'lluvia': 2,\n",
              "         'encerrado': 1,\n",
              "         'cuartito': 6,\n",
              "         'construyó': 2,\n",
              "         'nadie': 5,\n",
              "         'perturbara': 1,\n",
              "         'Habiendo': 1,\n",
              "         'abandonado': 2,\n",
              "         'completo': 3,\n",
              "         'obligaciones': 1,\n",
              "         'domésticas': 1,\n",
              "         'permaneció': 3,\n",
              "         'noches': 1,\n",
              "         'enteras': 1,\n",
              "         'patio': 2,\n",
              "         'vigilando': 1,\n",
              "         'curso': 1,\n",
              "         'astros': 1,\n",
              "         'contraer': 1,\n",
              "         'insolación': 1,\n",
              "         'tratar': 1,\n",
              "         'establecer': 1,\n",
              "         'método': 1,\n",
              "         'exacto': 1,\n",
              "         'encontrar': 2,\n",
              "         'experto': 1,\n",
              "         'uso': 1,\n",
              "         'manejo': 1,\n",
              "         'noción': 1,\n",
              "         'espacio': 2,\n",
              "         'permitió': 1,\n",
              "         'navegar': 1,\n",
              "         'mares': 1,\n",
              "         'incógnitos': 1,\n",
              "         'visitar': 1,\n",
              "         'territorios': 2,\n",
              "         'deshabitados': 1,\n",
              "         'trabar': 1,\n",
              "         'relación': 1,\n",
              "         'seres': 1,\n",
              "         'espléndidos': 1,\n",
              "         'necesidad': 2,\n",
              "         'abandonar': 2,\n",
              "         'gabinete': 1,\n",
              "         'época': 2,\n",
              "         'adquirió': 1,\n",
              "         'hábito': 1,\n",
              "         'hablar': 2,\n",
              "         'solas': 2,\n",
              "         'paseándose': 1,\n",
              "         'caso': 2,\n",
              "         'mientras': 9,\n",
              "         'niños': 15,\n",
              "         'partían': 1,\n",
              "         'espinazo': 1,\n",
              "         'huerta': 2,\n",
              "         'cuidando': 1,\n",
              "         'plátano': 1,\n",
              "         'malanga': 1,\n",
              "         'yuca': 1,\n",
              "         'ñame': 1,\n",
              "         'ahuyama': 1,\n",
              "         'berenjena': 1,\n",
              "         'ningún': 4,\n",
              "         'anuncio': 2,\n",
              "         'actividad': 1,\n",
              "         'febril': 1,\n",
              "         'interrumpió': 2,\n",
              "         'sustituida': 1,\n",
              "         'especie': 2,\n",
              "         'fascinación': 2,\n",
              "         'Estuvo': 1,\n",
              "         'días': 5,\n",
              "         'hechizado': 1,\n",
              "         'repitiéndose': 1,\n",
              "         'baja': 1,\n",
              "         'sartal': 1,\n",
              "         'asombrosas': 1,\n",
              "         'dar': 1,\n",
              "         'crédito': 1,\n",
              "         'propio': 3,\n",
              "         'entendimiento': 1,\n",
              "         'martes': 1,\n",
              "         'diciembre': 1,\n",
              "         'hora': 2,\n",
              "         'almuerzo': 1,\n",
              "         'soltó': 1,\n",
              "         'golpe': 2,\n",
              "         'carga': 1,\n",
              "         'tormento': 1,\n",
              "         'Los': 7,\n",
              "         'resto': 4,\n",
              "         'augusta': 1,\n",
              "         'solemnidad': 1,\n",
              "         'sentó': 1,\n",
              "         'cabecera': 1,\n",
              "         'mesa': 3,\n",
              "         'temblando': 1,\n",
              "         'fiebre': 3,\n",
              "         'devastado': 1,\n",
              "         'prolongada': 2,\n",
              "         'vigilia': 1,\n",
              "         'encono': 1,\n",
              "         'reveló': 2,\n",
              "         'redonda': 1,\n",
              "         'naranja': 1,\n",
              "         'perdió': 2,\n",
              "         'paciencia': 1,\n",
              "         'Si': 2,\n",
              "         'volverte': 1,\n",
              "         'loco': 2,\n",
              "         'vuélvete': 1,\n",
              "         'solo': 1,\n",
              "         'gritó': 2,\n",
              "         'trates': 1,\n",
              "         'inculcar': 1,\n",
              "         'ideas': 1,\n",
              "         'impasible': 1,\n",
              "         'amedrentar': 1,\n",
              "         'rapto': 1,\n",
              "         'cólera': 1,\n",
              "         'destrozó': 1,\n",
              "         'suelo': 4,\n",
              "         'Construyó': 1,\n",
              "         'reunió': 1,\n",
              "         'pueblo': 2,\n",
              "         'demostró': 1,\n",
              "         'teorías': 1,\n",
              "         'resultaban': 1,\n",
              "         'incomprensibles': 1,\n",
              "         'posibilidad': 2,\n",
              "         'regresar': 2,\n",
              "         'navegando': 1,\n",
              "         'hacia': 6,\n",
              "         'Oriente': 1,\n",
              "         'Toda': 2,\n",
              "         'convencida': 1,\n",
              "         'perdido': 1,\n",
              "         'juicio': 1,\n",
              "         'llegó': 4,\n",
              "         'poner': 2,\n",
              "         'Exaltó': 1,\n",
              "         'público': 2,\n",
              "         'inteligencia': 1,\n",
              "         'pura': 2,\n",
              "         'especulación': 1,\n",
              "         'astronómica': 1,\n",
              "         'construido': 2,\n",
              "         'teoría': 1,\n",
              "         'comprobada': 1,\n",
              "         'práctica': 1,\n",
              "         'aunque': 1,\n",
              "         'desconocida': 1,\n",
              "         'admiración': 1,\n",
              "         'regalo': 1,\n",
              "         'ejercer': 1,\n",
              "         'influencia': 2,\n",
              "         'terminante': 2,\n",
              "         'futuro': 1,\n",
              "         'laboratorio': 6,\n",
              "         'alquimia': 2,\n",
              "         'envejecido': 1,\n",
              "         'rapidez': 1,\n",
              "         'primeros': 2,\n",
              "         'viajes': 2,\n",
              "         'parecía': 6,\n",
              "         'tener': 2,\n",
              "         'misma': 1,\n",
              "         'edad': 2,\n",
              "         'éste': 2,\n",
              "         'conservaba': 1,\n",
              "         'fuerza': 1,\n",
              "         'descomunal': 1,\n",
              "         'permitía': 1,\n",
              "         'derribar': 1,\n",
              "         'caballo': 1,\n",
              "         'agarrándolo': 1,\n",
              "         'orejas': 1,\n",
              "         'estragado': 1,\n",
              "         'dolencia': 1,\n",
              "         'tenaz': 1,\n",
              "         'Era': 6,\n",
              "         'realidad': 2,\n",
              "         'resultado': 1,\n",
              "         'múltiples': 1,\n",
              "         'raras': 1,\n",
              "         'enfermedades': 1,\n",
              "         'contraídas': 1,\n",
              "         'incontables': 1,\n",
              "         'alrededor': 1,\n",
              "         'Según': 1,\n",
              "         'contó': 2,\n",
              "         'ayudaba': 1,\n",
              "         'montar': 1,\n",
              "         'muerte': 1,\n",
              "         'seguía': 2,\n",
              "         'husmeándole': 1,\n",
              "         'pantalones': 1,\n",
              "         'decidirse': 1,\n",
              "         'darle': 1,\n",
              "         'zarpazo': 1,\n",
              "         'final': 1,\n",
              "         'fugitivo': 1,\n",
              "         'cuantas': 1,\n",
              "         'plagas': 1,\n",
              "         'catástrofes': 1,\n",
              "         'flagelado': 1,\n",
              "         'género': 1,\n",
              "         'humano': 3,\n",
              "         'Sobrevivió': 1,\n",
              "         'pelagra': 1,\n",
              "         'Persia': 1,\n",
              "         'escorbuto': 3,\n",
              "         'archipiélago': 1,\n",
              "         'Malasia': 1,\n",
              "         'lepra': 1,\n",
              "         'Alejandría': 1,\n",
              "         'beriberi': 1,\n",
              "         'Japón': 1,\n",
              "         'bubónica': 1,\n",
              "         'Madagascar': 1,\n",
              "         'terremoto': 1,\n",
              "         'Sicilia': 1,\n",
              "         'naufragio': 1,\n",
              "         'multitudinario': 1,\n",
              "         'estrecho': 1,\n",
              "         'Magallanes': 1,\n",
              "         'ser': 6,\n",
              "         'prodigioso': 3,\n",
              "         'decía': 3,\n",
              "         'poseer': 1,\n",
              "         'claves': 1,\n",
              "         'Nostradamus': 1,\n",
              "         'lúgubre': 1,\n",
              "         'envuelto': 1,\n",
              "         'aura': 1,\n",
              "         'triste': 2,\n",
              "         'mirada': 4,\n",
              "         'asiática': 1,\n",
              "         'lado': 4,\n",
              "         'Usaba': 1,\n",
              "         'sombrero': 1,\n",
              "         'negro': 1,\n",
              "         'alas': 1,\n",
              "         'extendidas': 1,\n",
              "         'cuervo': 1,\n",
              "         'chaleco': 1,\n",
              "         'terciopelo': 1,\n",
              "         'patinado': 1,\n",
              "         'verdín': 1,\n",
              "         'siglos': 1,\n",
              "         'inmensa': 1,\n",
              "         'sabiduría': 1,\n",
              "         'ámbito': 2,\n",
              "         'misterioso': 2,\n",
              "         'peso': 1,\n",
              "         'condición': 1,\n",
              "         'terrestre': 1,\n",
              "         'mantenía': 1,\n",
              "         'enredado': 1,\n",
              "         'minúsculos': 1,\n",
              "         'problemas': 1,\n",
              "         'cotidiana': 1,\n",
              "         'Se': 4,\n",
              "         'quejaba': 1,\n",
              "         'dolencias': 1,\n",
              "         'viejo': 1,\n",
              "         'sufría': 1,\n",
              "         'insignificantes': 1,\n",
              "         'percances': 1,\n",
              "         'económicos': 1,\n",
              "         'dejado': 1,\n",
              "         'reír': 1,\n",
              "         'arrancado': 1,\n",
              "         'dientes': 4,\n",
              "         'sofocante': 2,\n",
              "         'secretos': 2,\n",
              "         'certidumbre': 2,\n",
              "         'principio': 2,\n",
              "         'amistad': 1,\n",
              "         'asombraron': 1,\n",
              "         'relatos': 1,\n",
              "         'fantásticos': 1,\n",
              "         'recordarlo': 1,\n",
              "         'vio': 2,\n",
              "         'sentado': 1,\n",
              "         'metálica': 1,\n",
              "         'reverberante': 1,\n",
              "         'ventana': 2,\n",
              "         'alumbrando': 1,\n",
              "         'profunda': 1,\n",
              "         'órgano': 2,\n",
              "         'oscuros': 1,\n",
              "         'chorreaba': 1,\n",
              "         'sienes': 1,\n",
              "         'grasa': 1,\n",
              "         'derretida': 1,\n",
              "         'calor': 2,\n",
              "         'hermano': 1,\n",
              "         'mayor': 3,\n",
              "         'transmitir': 1,\n",
              "         'imagen': 2,\n",
              "         'maravillosa': 1,\n",
              "         'recuerdo': 3,\n",
              "         'hereditario': 1,\n",
              "         'descendencia': 1,\n",
              "         'conservó': 1,\n",
              "         'mal': 2,\n",
              "         'visita': 1,\n",
              "         'entró': 2,\n",
              "         'momento': 6,\n",
              "         'rompió': 1,\n",
              "         'distracción': 1,\n",
              "         'frasco': 1,\n",
              "         'bicloruro': 1,\n",
              "         'mercurio': 2,\n",
              "         'Es': 3,\n",
              "         'olor': 4,\n",
              "         'demonio': 2,\n",
              "         'dijo': 6,\n",
              "         'absoluto': 1,\n",
              "         'corrigió': 2,\n",
              "         'Está': 2,\n",
              "         'comprobado': 1,\n",
              "         'propiedades': 1,\n",
              "         'sulfúricas': 1,\n",
              "         'solimán': 1,\n",
              "         'Siempre': 2,\n",
              "         'didáctico': 1,\n",
              "         'sabia': 1,\n",
              "         'exposición': 1,\n",
              "         'virtudes': 1,\n",
              "         'diabólicas': 1,\n",
              "         'cinabrio': 1,\n",
              "         'sino': 4,\n",
              "         'rezar': 1,\n",
              "         'mordiente': 1,\n",
              "         'quedaría': 1,\n",
              "         'memoria': 3,\n",
              "         'vinculado': 1,\n",
              "         'rudimentario': 1,\n",
              "         'contar': 1,\n",
              "         'profusión': 1,\n",
              "         'cazuelas': 1,\n",
              "         'embudos': 1,\n",
              "         'retortas': 1,\n",
              "         'filtros': 1,\n",
              "         'coladores': 1,\n",
              "         'compuesto': 1,\n",
              "         'atanor': 1,\n",
              "         'primitivo': 1,\n",
              "         'probeta': 1,\n",
              "         'cristal': 1,\n",
              "         'largo': 1,\n",
              "         'angosto': 1,\n",
              "         'imitación': 1,\n",
              "         'huevo': 1,\n",
              "         'filosófico': 1,\n",
              "         'destilador': 1,\n",
              "         'propios': 1,\n",
              "         'según': 4,\n",
              "         'descripciones': 1,\n",
              "         'modernas': 1,\n",
              "         'alambique': 1,\n",
              "         'brazos': 2,\n",
              "         'María': 1,\n",
              "         'judía': 1,\n",
              "         'Además': 1,\n",
              "         'muestras': 1,\n",
              "         'siete': 3,\n",
              "         'metales': 2,\n",
              "         'correspondientes': 1,\n",
              "         'planetas': 1,\n",
              "         'fórmulas': 2,\n",
              "         'Moisés': 1,\n",
              "         'Zósimo': 1,\n",
              "         'doblado': 1,\n",
              "         'serie': 1,\n",
              "         'apuntes': 1,\n",
              "         'procesos': 2,\n",
              "         'Gran': 1,\n",
              "         'Magisterio': 1,\n",
              "         'permitían': 1,\n",
              "         'supiera': 1,\n",
              "         'interpretarlos': 1,\n",
              "         'intentar': 1,\n",
              "         'fabricación': 1,\n",
              "         'piedra': 1,\n",
              "         'filosofal': 1,\n",
              "         'Seducido': 1,\n",
              "         'simplicidad': 1,\n",
              "         'doblar': 1,\n",
              "         'cortejó': 1,\n",
              "         'varias': 1,\n",
              "         'semanas': 2,\n",
              "         'permitiera': 1,\n",
              "         'coloniales': 1,\n",
              "         'aumentarlas': 1,\n",
              "         'tantas': 1,\n",
              "         'veces': 1,\n",
              "         'subdividir': 1,\n",
              "         'azogue': 1,\n",
              "         'cedió': 1,\n",
              "         'ocurría': 1,\n",
              "         'inquebrantable': 1,\n",
              "         'obstinación': 1,\n",
              "         'Entonces': 1,\n",
              "         'echó': 3,\n",
              "         'treinta': 3,\n",
              "         'cazuela': 1,\n",
              "         'fundió': 1,\n",
              "         'raspadura': 1,\n",
              "         'oropimente': 1,\n",
              "         'azufre': 1,\n",
              "         'plomo': 1,\n",
              "         'Puso': 1,\n",
              "         'hervir': 1,\n",
              "         'vivo': 1,\n",
              "         'caldero': 2,\n",
              "         'aceite': 2,\n",
              "         'ricino': 1,\n",
              "         'obtener': 1,\n",
              "         'jarabe': 2,\n",
              "         'espeso': 1,\n",
              "         'pestilente': 2,\n",
              "         'parecido': 1,\n",
              "         'caramelo': 1,\n",
              "         'vulgar': 1,\n",
              "         'magnífico': 1,\n",
              "         'azarosos': 1,\n",
              "         'desesperados': 1,\n",
              "         'destilación': 1,\n",
              "         'fundida': 1,\n",
              "         'planetarios': 1,\n",
              "         'trabajada': 1,\n",
              "         'hermético': 1,\n",
              "         'vitriolo': 1,\n",
              "         'Chipre': 1,\n",
              "         'vuelta': 1,\n",
              "         'cocer': 1,\n",
              "         'manteca': 1,\n",
              "         'cerdo': 1,\n",
              "         'falta': 2,\n",
              "         'rábano': 1,\n",
              "         'preciosa': 1,\n",
              "         'herencia': 1,\n",
              "         'quedó': 3,\n",
              "         'reducida': 1,\n",
              "         'chicharrón': 1,\n",
              "         'carbonizado': 2,\n",
              "         'pudo': 2,\n",
              "         'desprendido': 1,\n",
              "         'predispuesto': 1,\n",
              "         'población': 1,\n",
              "         'curiosidad': 2,\n",
              "         'temor': 2,\n",
              "         'recorrieron': 1,\n",
              "         'ruido': 1,\n",
              "         'ensordecedor': 1,\n",
              "         'clase': 4,\n",
              "         'músicos': 1,\n",
              "         'pregonero': 1,\n",
              "         'anunciaba': 2,\n",
              "         'exhibición': 1,\n",
              "         'fabuloso': 1,\n",
              "         'hallazgo': 2,\n",
              "         'nasciancenos': 1,\n",
              "         'modo': 4,\n",
              "         'centavo': 1,\n",
              "         'vieron': 1,\n",
              "         'juvenil': 2,\n",
              "         'repuesto': 1,\n",
              "         'desarrugado': 1,\n",
              "         'dentadura': 2,\n",
              "         'nueva': 3,\n",
              "         'radiante': 1,\n",
              "         'Quienes': 2,\n",
              "         'recordaban': 1,\n",
              "         'encías': 2,\n",
              "         'destruidas': 1,\n",
              "         'mejillas': 1,\n",
              "         'fláccidas': 1,\n",
              "         'labios': 1,\n",
              "         'marchitos': 1,\n",
              "         'estremecieron': 1,\n",
              "         'pavor': 2,\n",
              "         'sobrenaturales': 1,\n",
              "         'convirtió': 2,\n",
              "         'pánico': 2,\n",
              "         'sacó': 1,\n",
              "         'intactos': 1,\n",
              "         'engastados': 1,\n",
              "         'mostró': 1,\n",
              "         'instante': 4,\n",
              "         'fugaz': 1,\n",
              "         'volvió': 7,\n",
              "         'decrépito': 1,\n",
              "         'anteriores': 1,\n",
              "         'puso': 3,\n",
              "         'sonrió': 1,\n",
              "         'nuevo': 2,\n",
              "         'dominio': 1,\n",
              "         'pleno': 1,\n",
              "         'juventud': 2,\n",
              "         'restaurada': 1,\n",
              "         'Hasta': 1,\n",
              "         'consideró': 1,\n",
              "         'conocimientos': 2,\n",
              "         'llegado': 1,\n",
              "         'extremos': 2,\n",
              "         'intolerables': 1,\n",
              "         'experimentó': 1,\n",
              "         'saludable': 1,\n",
              "         'alborozo': 1,\n",
              "         'explicó': 1,\n",
              "         'mecanismo': 1,\n",
              "         'postiza': 1,\n",
              "         'Aquello': 1,\n",
              "         'pareció': 1,\n",
              "         'sencillo': 1,\n",
              "         'noche': 3,\n",
              "         'mañana': 3,\n",
              "         'interés': 1,\n",
              "         'investigaciones': 1,\n",
              "         'crisis': 1,\n",
              "         'humor': 1,\n",
              "         'comer': 2,\n",
              "         'forma': 2,\n",
              "         'regular': 2,\n",
              "         'pasaba': 1,\n",
              "         'día': 2,\n",
              "         'dando': 1,\n",
              "         'vueltas': 1,\n",
              "         'ocurriendo': 1,\n",
              "         'increíbles': 2,\n",
              "         'Ahí': 1,\n",
              "         'aparatos': 2,\n",
              "         'seguimos': 1,\n",
              "         'viviendo': 1,\n",
              "         'burros': 2,\n",
              "         'conocían': 2,\n",
              "         'tiempos': 2,\n",
              "         'fundación': 4,\n",
              "         'asombraban': 1,\n",
              "         'cuánto': 1,\n",
              "         'cambiado': 1,\n",
              "         ...})"
            ]
          },
          "metadata": {},
          "execution_count": 10
        }
      ],
      "source": [
        "counts"
      ]
    },
    {
      "cell_type": "code",
      "execution_count": 11,
      "id": "513fd273-af69-42ff-a0b0-b4b288abdbd2",
      "metadata": {
        "id": "513fd273-af69-42ff-a0b0-b4b288abdbd2"
      },
      "outputs": [],
      "source": [
        "counts_more_than_1 = {k:v for k,v in counts.items() if v > 1}"
      ]
    },
    {
      "cell_type": "code",
      "execution_count": 12,
      "id": "164a3d14-70c2-4b5e-b3db-ccfa7b36e552",
      "metadata": {
        "id": "164a3d14-70c2-4b5e-b3db-ccfa7b36e552"
      },
      "outputs": [],
      "source": [
        "vocab = list(counts_more_than_1.keys())\n",
        "itot = dict(enumerate(vocab))\n",
        "ttoi = {v:k for k,v in itot.items()}"
      ]
    },
    {
      "cell_type": "code",
      "execution_count": 13,
      "id": "323ec7bc-3d82-4b03-84e4-e8c64767d689",
      "metadata": {
        "id": "323ec7bc-3d82-4b03-84e4-e8c64767d689"
      },
      "outputs": [],
      "source": [
        "tokens_more_than_1 = [w for w in tokens if w in vocab]"
      ]
    },
    {
      "cell_type": "markdown",
      "id": "dc0411dc-3582-489b-ac44-b3f047f726e6",
      "metadata": {
        "id": "dc0411dc-3582-489b-ac44-b3f047f726e6"
      },
      "source": [
        "### Let's prepare the window for Word2VecCNN"
      ]
    },
    {
      "cell_type": "code",
      "execution_count": 14,
      "id": "2739b3e1-252b-4ff7-bf8a-918a1cffbc73",
      "metadata": {
        "id": "2739b3e1-252b-4ff7-bf8a-918a1cffbc73"
      },
      "outputs": [],
      "source": [
        "def window(tokens, win=2):\n",
        "    output = []\n",
        "    for i, w in enumerate(tokens):\n",
        "        target = ttoi[w]\n",
        "        window = [tokens[i+j] for j in range(-win, win+1,1)\n",
        "                  if (i+j >= 0) & (i+j < len(tokens)) & (j != 0)]\n",
        "       # print(window)\n",
        "        output += [(target, ttoi[j]) for j in window]\n",
        "    return output"
      ]
    },
    {
      "cell_type": "code",
      "execution_count": 15,
      "id": "59c1eefd-5a6d-4963-a27b-aab83a64551c",
      "metadata": {
        "id": "59c1eefd-5a6d-4963-a27b-aab83a64551c"
      },
      "outputs": [],
      "source": [
        "data_windowed = window(tokens_more_than_1, win=4)"
      ]
    },
    {
      "cell_type": "code",
      "execution_count": 17,
      "id": "03970290-6959-4fc6-b959-617194781b7c",
      "metadata": {
        "colab": {
          "base_uri": "https://localhost:8080/"
        },
        "id": "03970290-6959-4fc6-b959-617194781b7c",
        "outputId": "541de08a-6912-4932-ec85-f7b1ef512704",
        "collapsed": true
      },
      "outputs": [
        {
          "output_type": "execute_result",
          "data": {
            "text/plain": [
              "[(0, 1),\n",
              " (0, 2),\n",
              " (0, 3),\n",
              " (0, 4),\n",
              " (1, 0),\n",
              " (1, 2),\n",
              " (1, 3),\n",
              " (1, 4),\n",
              " (1, 5),\n",
              " (2, 0),\n",
              " (2, 1),\n",
              " (2, 3),\n",
              " (2, 4),\n",
              " (2, 5),\n",
              " (2, 6),\n",
              " (3, 0),\n",
              " (3, 1),\n",
              " (3, 2),\n",
              " (3, 4),\n",
              " (3, 5),\n",
              " (3, 6),\n",
              " (3, 7),\n",
              " (4, 0),\n",
              " (4, 1),\n",
              " (4, 2),\n",
              " (4, 3),\n",
              " (4, 5),\n",
              " (4, 6),\n",
              " (4, 7),\n",
              " (4, 8),\n",
              " (5, 1),\n",
              " (5, 2),\n",
              " (5, 3),\n",
              " (5, 4),\n",
              " (5, 6),\n",
              " (5, 7),\n",
              " (5, 8),\n",
              " (5, 9),\n",
              " (6, 2),\n",
              " (6, 3),\n",
              " (6, 4),\n",
              " (6, 5),\n",
              " (6, 7),\n",
              " (6, 8),\n",
              " (6, 9),\n",
              " (6, 10),\n",
              " (7, 3),\n",
              " (7, 4),\n",
              " (7, 5),\n",
              " (7, 6),\n",
              " (7, 8),\n",
              " (7, 9),\n",
              " (7, 10),\n",
              " (7, 11),\n",
              " (8, 4),\n",
              " (8, 5),\n",
              " (8, 6),\n",
              " (8, 7),\n",
              " (8, 9),\n",
              " (8, 10),\n",
              " (8, 11),\n",
              " (8, 12),\n",
              " (9, 5),\n",
              " (9, 6),\n",
              " (9, 7),\n",
              " (9, 8),\n",
              " (9, 10),\n",
              " (9, 11),\n",
              " (9, 12),\n",
              " (9, 13),\n",
              " (10, 6),\n",
              " (10, 7),\n",
              " (10, 8),\n",
              " (10, 9),\n",
              " (10, 11),\n",
              " (10, 12),\n",
              " (10, 13),\n",
              " (10, 14),\n",
              " (11, 7),\n",
              " (11, 8),\n",
              " (11, 9),\n",
              " (11, 10),\n",
              " (11, 12),\n",
              " (11, 13),\n",
              " (11, 14),\n",
              " (11, 15),\n",
              " (12, 8),\n",
              " (12, 9),\n",
              " (12, 10),\n",
              " (12, 11),\n",
              " (12, 13),\n",
              " (12, 14),\n",
              " (12, 15),\n",
              " (12, 16),\n",
              " (13, 9),\n",
              " (13, 10),\n",
              " (13, 11),\n",
              " (13, 12),\n",
              " (13, 14),\n",
              " (13, 15),\n",
              " (13, 16),\n",
              " (13, 17),\n",
              " (14, 10),\n",
              " (14, 11),\n",
              " (14, 12),\n",
              " (14, 13),\n",
              " (14, 15),\n",
              " (14, 16),\n",
              " (14, 17),\n",
              " (14, 18),\n",
              " (15, 11),\n",
              " (15, 12),\n",
              " (15, 13),\n",
              " (15, 14),\n",
              " (15, 16),\n",
              " (15, 17),\n",
              " (15, 18),\n",
              " (15, 19),\n",
              " (16, 12),\n",
              " (16, 13),\n",
              " (16, 14),\n",
              " (16, 15),\n",
              " (16, 17),\n",
              " (16, 18),\n",
              " (16, 19),\n",
              " (16, 20),\n",
              " (17, 13),\n",
              " (17, 14),\n",
              " (17, 15),\n",
              " (17, 16),\n",
              " (17, 18),\n",
              " (17, 19),\n",
              " (17, 20),\n",
              " (17, 21),\n",
              " (18, 14),\n",
              " (18, 15),\n",
              " (18, 16),\n",
              " (18, 17),\n",
              " (18, 19),\n",
              " (18, 20),\n",
              " (18, 21),\n",
              " (18, 22),\n",
              " (19, 15),\n",
              " (19, 16),\n",
              " (19, 17),\n",
              " (19, 18),\n",
              " (19, 20),\n",
              " (19, 21),\n",
              " (19, 22),\n",
              " (19, 23),\n",
              " (20, 16),\n",
              " (20, 17),\n",
              " (20, 18),\n",
              " (20, 19),\n",
              " (20, 21),\n",
              " (20, 22),\n",
              " (20, 23),\n",
              " (20, 24),\n",
              " (21, 17),\n",
              " (21, 18),\n",
              " (21, 19),\n",
              " (21, 20),\n",
              " (21, 22),\n",
              " (21, 23),\n",
              " (21, 24),\n",
              " (21, 25),\n",
              " (22, 18),\n",
              " (22, 19),\n",
              " (22, 20),\n",
              " (22, 21),\n",
              " (22, 23),\n",
              " (22, 24),\n",
              " (22, 25),\n",
              " (22, 26),\n",
              " (23, 19),\n",
              " (23, 20),\n",
              " (23, 21),\n",
              " (23, 22),\n",
              " (23, 24),\n",
              " (23, 25),\n",
              " (23, 26),\n",
              " (23, 27),\n",
              " (24, 20),\n",
              " (24, 21),\n",
              " (24, 22),\n",
              " (24, 23),\n",
              " (24, 25),\n",
              " (24, 26),\n",
              " (24, 27),\n",
              " (24, 28),\n",
              " (25, 21),\n",
              " (25, 22),\n",
              " (25, 23),\n",
              " (25, 24),\n",
              " (25, 26),\n",
              " (25, 27),\n",
              " (25, 28),\n",
              " (25, 1),\n",
              " (26, 22),\n",
              " (26, 23),\n",
              " (26, 24),\n",
              " (26, 25),\n",
              " (26, 27),\n",
              " (26, 28),\n",
              " (26, 1),\n",
              " (26, 29),\n",
              " (27, 23),\n",
              " (27, 24),\n",
              " (27, 25),\n",
              " (27, 26),\n",
              " (27, 28),\n",
              " (27, 1),\n",
              " (27, 29),\n",
              " (27, 30),\n",
              " (28, 24),\n",
              " (28, 25),\n",
              " (28, 26),\n",
              " (28, 27),\n",
              " (28, 1),\n",
              " (28, 29),\n",
              " (28, 30),\n",
              " (28, 31),\n",
              " (1, 25),\n",
              " (1, 26),\n",
              " (1, 27),\n",
              " (1, 28),\n",
              " (1, 29),\n",
              " (1, 30),\n",
              " (1, 31),\n",
              " (1, 18),\n",
              " (29, 26),\n",
              " (29, 27),\n",
              " (29, 28),\n",
              " (29, 1),\n",
              " (29, 30),\n",
              " (29, 31),\n",
              " (29, 18),\n",
              " (29, 32),\n",
              " (30, 27),\n",
              " (30, 28),\n",
              " (30, 1),\n",
              " (30, 29),\n",
              " (30, 31),\n",
              " (30, 18),\n",
              " (30, 32),\n",
              " (30, 14),\n",
              " (31, 28),\n",
              " (31, 1),\n",
              " (31, 29),\n",
              " (31, 30),\n",
              " (31, 18),\n",
              " (31, 32),\n",
              " (31, 14),\n",
              " (31, 33),\n",
              " (18, 1),\n",
              " (18, 29),\n",
              " (18, 30),\n",
              " (18, 31),\n",
              " (18, 32),\n",
              " (18, 14),\n",
              " (18, 33),\n",
              " (18, 34),\n",
              " (32, 29),\n",
              " (32, 30),\n",
              " (32, 31),\n",
              " (32, 18),\n",
              " (32, 14),\n",
              " (32, 33),\n",
              " (32, 34),\n",
              " (32, 35),\n",
              " (14, 30),\n",
              " (14, 31),\n",
              " (14, 18),\n",
              " (14, 32),\n",
              " (14, 33),\n",
              " (14, 34),\n",
              " (14, 35),\n",
              " (14, 36),\n",
              " (33, 31),\n",
              " (33, 18),\n",
              " (33, 32),\n",
              " (33, 14),\n",
              " (33, 34),\n",
              " (33, 35),\n",
              " (33, 36),\n",
              " (33, 37),\n",
              " (34, 18),\n",
              " (34, 32),\n",
              " (34, 14),\n",
              " (34, 33),\n",
              " (34, 35),\n",
              " (34, 36),\n",
              " (34, 37),\n",
              " (34, 38),\n",
              " (35, 32),\n",
              " (35, 14),\n",
              " (35, 33),\n",
              " (35, 34),\n",
              " (35, 36),\n",
              " (35, 37),\n",
              " (35, 38),\n",
              " (35, 28),\n",
              " (36, 14),\n",
              " (36, 33),\n",
              " (36, 34),\n",
              " (36, 35),\n",
              " (36, 37),\n",
              " (36, 38),\n",
              " (36, 28),\n",
              " (36, 39),\n",
              " (37, 33),\n",
              " (37, 34),\n",
              " (37, 35),\n",
              " (37, 36),\n",
              " (37, 38),\n",
              " (37, 28),\n",
              " (37, 39),\n",
              " (37, 40),\n",
              " (38, 34),\n",
              " (38, 35),\n",
              " (38, 36),\n",
              " (38, 37),\n",
              " (38, 28),\n",
              " (38, 39),\n",
              " (38, 40),\n",
              " (38, 41),\n",
              " (28, 35),\n",
              " (28, 36),\n",
              " (28, 37),\n",
              " (28, 38),\n",
              " (28, 39),\n",
              " (28, 40),\n",
              " (28, 41),\n",
              " (28, 42),\n",
              " (39, 36),\n",
              " (39, 37),\n",
              " (39, 38),\n",
              " (39, 28),\n",
              " (39, 40),\n",
              " (39, 41),\n",
              " (39, 42),\n",
              " (39, 43),\n",
              " (40, 37),\n",
              " (40, 38),\n",
              " (40, 28),\n",
              " (40, 39),\n",
              " (40, 41),\n",
              " (40, 42),\n",
              " (40, 43),\n",
              " (40, 44),\n",
              " (41, 38),\n",
              " (41, 28),\n",
              " (41, 39),\n",
              " (41, 40),\n",
              " (41, 42),\n",
              " (41, 43),\n",
              " (41, 44),\n",
              " (41, 45),\n",
              " (42, 28),\n",
              " (42, 39),\n",
              " (42, 40),\n",
              " (42, 41),\n",
              " (42, 43),\n",
              " (42, 44),\n",
              " (42, 45),\n",
              " (42, 45),\n",
              " (43, 39),\n",
              " (43, 40),\n",
              " (43, 41),\n",
              " (43, 42),\n",
              " (43, 44),\n",
              " (43, 45),\n",
              " (43, 45),\n",
              " (43, 46),\n",
              " (44, 40),\n",
              " (44, 41),\n",
              " (44, 42),\n",
              " (44, 43),\n",
              " (44, 45),\n",
              " (44, 45),\n",
              " (44, 46),\n",
              " (44, 47),\n",
              " (45, 41),\n",
              " (45, 42),\n",
              " (45, 43),\n",
              " (45, 44),\n",
              " (45, 45),\n",
              " (45, 46),\n",
              " (45, 47),\n",
              " (45, 48),\n",
              " (45, 42),\n",
              " (45, 43),\n",
              " (45, 44),\n",
              " (45, 45),\n",
              " (45, 46),\n",
              " (45, 47),\n",
              " (45, 48),\n",
              " (45, 25),\n",
              " (46, 43),\n",
              " (46, 44),\n",
              " (46, 45),\n",
              " (46, 45),\n",
              " (46, 47),\n",
              " (46, 48),\n",
              " (46, 25),\n",
              " (46, 49),\n",
              " (47, 44),\n",
              " (47, 45),\n",
              " (47, 45),\n",
              " (47, 46),\n",
              " (47, 48),\n",
              " (47, 25),\n",
              " (47, 49),\n",
              " (47, 50),\n",
              " (48, 45),\n",
              " (48, 45),\n",
              " (48, 46),\n",
              " (48, 47),\n",
              " (48, 25),\n",
              " (48, 49),\n",
              " (48, 50),\n",
              " (48, 51),\n",
              " (25, 45),\n",
              " (25, 46),\n",
              " (25, 47),\n",
              " (25, 48),\n",
              " (25, 49),\n",
              " (25, 50),\n",
              " (25, 51),\n",
              " (25, 52),\n",
              " (49, 46),\n",
              " (49, 47),\n",
              " (49, 48),\n",
              " (49, 25),\n",
              " (49, 50),\n",
              " (49, 51),\n",
              " (49, 52),\n",
              " (49, 53),\n",
              " (50, 47),\n",
              " (50, 48),\n",
              " (50, 25),\n",
              " (50, 49),\n",
              " (50, 51),\n",
              " (50, 52),\n",
              " (50, 53),\n",
              " (50, 54),\n",
              " (51, 48),\n",
              " (51, 25),\n",
              " (51, 49),\n",
              " (51, 50),\n",
              " (51, 52),\n",
              " (51, 53),\n",
              " (51, 54),\n",
              " (51, 55),\n",
              " (52, 25),\n",
              " (52, 49),\n",
              " (52, 50),\n",
              " (52, 51),\n",
              " (52, 53),\n",
              " (52, 54),\n",
              " (52, 55),\n",
              " (52, 56),\n",
              " (53, 49),\n",
              " (53, 50),\n",
              " (53, 51),\n",
              " (53, 52),\n",
              " (53, 54),\n",
              " (53, 55),\n",
              " (53, 56),\n",
              " (53, 57),\n",
              " (54, 50),\n",
              " (54, 51),\n",
              " (54, 52),\n",
              " (54, 53),\n",
              " (54, 55),\n",
              " (54, 56),\n",
              " (54, 57),\n",
              " (54, 39),\n",
              " (55, 51),\n",
              " (55, 52),\n",
              " (55, 53),\n",
              " (55, 54),\n",
              " (55, 56),\n",
              " (55, 57),\n",
              " (55, 39),\n",
              " (55, 27),\n",
              " (56, 52),\n",
              " (56, 53),\n",
              " (56, 54),\n",
              " (56, 55),\n",
              " (56, 57),\n",
              " (56, 39),\n",
              " (56, 27),\n",
              " (56, 58),\n",
              " (57, 53),\n",
              " (57, 54),\n",
              " (57, 55),\n",
              " (57, 56),\n",
              " (57, 39),\n",
              " (57, 27),\n",
              " (57, 58),\n",
              " (57, 59),\n",
              " (39, 54),\n",
              " (39, 55),\n",
              " (39, 56),\n",
              " (39, 57),\n",
              " (39, 27),\n",
              " (39, 58),\n",
              " (39, 59),\n",
              " (39, 60),\n",
              " (27, 55),\n",
              " (27, 56),\n",
              " (27, 57),\n",
              " (27, 39),\n",
              " (27, 58),\n",
              " (27, 59),\n",
              " (27, 60),\n",
              " (27, 36),\n",
              " (58, 56),\n",
              " (58, 57),\n",
              " (58, 39),\n",
              " (58, 27),\n",
              " (58, 59),\n",
              " (58, 60),\n",
              " (58, 36),\n",
              " (58, 61),\n",
              " (59, 57),\n",
              " (59, 39),\n",
              " (59, 27),\n",
              " (59, 58),\n",
              " (59, 60),\n",
              " (59, 36),\n",
              " (59, 61),\n",
              " (59, 62),\n",
              " (60, 39),\n",
              " (60, 27),\n",
              " (60, 58),\n",
              " (60, 59),\n",
              " (60, 36),\n",
              " (60, 61),\n",
              " (60, 62),\n",
              " (60, 63),\n",
              " (36, 27),\n",
              " (36, 58),\n",
              " (36, 59),\n",
              " (36, 60),\n",
              " (36, 61),\n",
              " (36, 62),\n",
              " (36, 63),\n",
              " (36, 8),\n",
              " (61, 58),\n",
              " (61, 59),\n",
              " (61, 60),\n",
              " (61, 36),\n",
              " (61, 62),\n",
              " (61, 63),\n",
              " (61, 8),\n",
              " (61, 64),\n",
              " (62, 59),\n",
              " (62, 60),\n",
              " (62, 36),\n",
              " (62, 61),\n",
              " (62, 63),\n",
              " (62, 8),\n",
              " (62, 64),\n",
              " (62, 65),\n",
              " (63, 60),\n",
              " (63, 36),\n",
              " (63, 61),\n",
              " (63, 62),\n",
              " (63, 8),\n",
              " (63, 64),\n",
              " (63, 65),\n",
              " (63, 66),\n",
              " (8, 36),\n",
              " (8, 61),\n",
              " (8, 62),\n",
              " (8, 63),\n",
              " (8, 64),\n",
              " (8, 65),\n",
              " (8, 66),\n",
              " (8, 67),\n",
              " (64, 61),\n",
              " (64, 62),\n",
              " (64, 63),\n",
              " (64, 8),\n",
              " (64, 65),\n",
              " (64, 66),\n",
              " (64, 67),\n",
              " (64, 52),\n",
              " (65, 62),\n",
              " (65, 63),\n",
              " (65, 8),\n",
              " (65, 64),\n",
              " (65, 66),\n",
              " (65, 67),\n",
              " (65, 52),\n",
              " (65, 68),\n",
              " (66, 63),\n",
              " (66, 8),\n",
              " (66, 64),\n",
              " (66, 65),\n",
              " (66, 67),\n",
              " (66, 52),\n",
              " (66, 68),\n",
              " (66, 69),\n",
              " (67, 8),\n",
              " (67, 64),\n",
              " (67, 65),\n",
              " (67, 66),\n",
              " (67, 52),\n",
              " (67, 68),\n",
              " (67, 69),\n",
              " (67, 10),\n",
              " (52, 64),\n",
              " (52, 65),\n",
              " (52, 66),\n",
              " (52, 67),\n",
              " (52, 68),\n",
              " (52, 69),\n",
              " (52, 10),\n",
              " (52, 70),\n",
              " (68, 65),\n",
              " (68, 66),\n",
              " (68, 67),\n",
              " (68, 52),\n",
              " (68, 69),\n",
              " (68, 10),\n",
              " (68, 70),\n",
              " (68, 71),\n",
              " (69, 66),\n",
              " (69, 67),\n",
              " (69, 52),\n",
              " (69, 68),\n",
              " (69, 10),\n",
              " (69, 70),\n",
              " (69, 71),\n",
              " (69, 39),\n",
              " (10, 67),\n",
              " (10, 52),\n",
              " (10, 68),\n",
              " (10, 69),\n",
              " (10, 70),\n",
              " (10, 71),\n",
              " (10, 39),\n",
              " (10, 72),\n",
              " (70, 52),\n",
              " (70, 68),\n",
              " (70, 69),\n",
              " (70, 10),\n",
              " (70, 71),\n",
              " (70, 39),\n",
              " (70, 72),\n",
              " (70, 73),\n",
              " (71, 68),\n",
              " (71, 69),\n",
              " (71, 10),\n",
              " (71, 70),\n",
              " (71, 39),\n",
              " (71, 72),\n",
              " (71, 73),\n",
              " (71, 74),\n",
              " (39, 69),\n",
              " (39, 10),\n",
              " (39, 70),\n",
              " (39, 71),\n",
              " (39, 72),\n",
              " (39, 73),\n",
              " (39, 74),\n",
              " (39, 62),\n",
              " (72, 10),\n",
              " (72, 70),\n",
              " (72, 71),\n",
              " (72, 39),\n",
              " (72, 73),\n",
              " (72, 74),\n",
              " (72, 62),\n",
              " (72, 63),\n",
              " (73, 70),\n",
              " (73, 71),\n",
              " (73, 39),\n",
              " (73, 72),\n",
              " (73, 74),\n",
              " (73, 62),\n",
              " (73, 63),\n",
              " (73, 8),\n",
              " (74, 71),\n",
              " (74, 39),\n",
              " (74, 72),\n",
              " (74, 73),\n",
              " (74, 62),\n",
              " (74, 63),\n",
              " (74, 8),\n",
              " (74, 75),\n",
              " (62, 39),\n",
              " (62, 72),\n",
              " (62, 73),\n",
              " (62, 74),\n",
              " (62, 63),\n",
              " (62, 8),\n",
              " (62, 75),\n",
              " (62, 55),\n",
              " (63, 72),\n",
              " (63, 73),\n",
              " (63, 74),\n",
              " (63, 62),\n",
              " (63, 8),\n",
              " (63, 75),\n",
              " (63, 55),\n",
              " (63, 76),\n",
              " (8, 73),\n",
              " (8, 74),\n",
              " (8, 62),\n",
              " (8, 63),\n",
              " (8, 75),\n",
              " (8, 55),\n",
              " (8, 76),\n",
              " (8, 30),\n",
              " (75, 74),\n",
              " (75, 62),\n",
              " (75, 63),\n",
              " (75, 8),\n",
              " (75, 55),\n",
              " (75, 76),\n",
              " (75, 30),\n",
              " (75, 77),\n",
              " (55, 62),\n",
              " (55, 63),\n",
              " (55, 8),\n",
              " (55, 75),\n",
              " (55, 76),\n",
              " (55, 30),\n",
              " (55, 77),\n",
              " (55, 78),\n",
              " (76, 63),\n",
              " (76, 8),\n",
              " (76, 75),\n",
              " (76, 55),\n",
              " (76, 30),\n",
              " (76, 77),\n",
              " (76, 78),\n",
              " (76, 79),\n",
              " (30, 8),\n",
              " (30, 75),\n",
              " (30, 55),\n",
              " (30, 76),\n",
              " (30, 77),\n",
              " (30, 78),\n",
              " (30, 79),\n",
              " (30, 47),\n",
              " (77, 75),\n",
              " (77, 55),\n",
              " (77, 76),\n",
              " (77, 30),\n",
              " (77, 78),\n",
              " (77, 79),\n",
              " (77, 47),\n",
              " (77, 48),\n",
              " (78, 55),\n",
              " (78, 76),\n",
              " (78, 30),\n",
              " (78, 77),\n",
              " (78, 79),\n",
              " (78, 47),\n",
              " (78, 48),\n",
              " (78, 80),\n",
              " (79, 76),\n",
              " (79, 30),\n",
              " (79, 77),\n",
              " (79, 78),\n",
              " (79, 47),\n",
              " (79, 48),\n",
              " (79, 80),\n",
              " (79, 81),\n",
              " (47, 30),\n",
              " (47, 77),\n",
              " (47, 78),\n",
              " (47, 79),\n",
              " (47, 48),\n",
              " (47, 80),\n",
              " (47, 81),\n",
              " (47, 82),\n",
              " (48, 77),\n",
              " (48, 78),\n",
              " (48, 79),\n",
              " (48, 47),\n",
              " (48, 80),\n",
              " (48, 81),\n",
              " (48, 82),\n",
              " (48, 83),\n",
              " (80, 78),\n",
              " (80, 79),\n",
              " (80, 47),\n",
              " (80, 48),\n",
              " (80, 81),\n",
              " (80, 82),\n",
              " (80, 83),\n",
              " (80, 84),\n",
              " (81, 79),\n",
              " (81, 47),\n",
              " (81, 48),\n",
              " (81, 80),\n",
              " (81, 82),\n",
              " (81, 83),\n",
              " (81, 84),\n",
              " (81, 85),\n",
              " (82, 47),\n",
              " (82, 48),\n",
              " (82, 80),\n",
              " (82, 81),\n",
              " (82, 83),\n",
              " (82, 84),\n",
              " (82, 85),\n",
              " (82, 70),\n",
              " (83, 48),\n",
              " (83, 80),\n",
              " (83, 81),\n",
              " (83, 82),\n",
              " (83, 84),\n",
              " (83, 85),\n",
              " (83, 70),\n",
              " (83, 45),\n",
              " (84, 80),\n",
              " (84, 81),\n",
              " (84, 82),\n",
              " (84, 83),\n",
              " (84, 85),\n",
              " (84, 70),\n",
              " (84, 45),\n",
              " (84, 86),\n",
              " (85, 81),\n",
              " (85, 82),\n",
              " (85, 83),\n",
              " (85, 84),\n",
              " (85, 70),\n",
              " (85, 45),\n",
              " (85, 86),\n",
              " (85, 87),\n",
              " (70, 82),\n",
              " (70, 83),\n",
              " (70, 84),\n",
              " (70, 85),\n",
              " (70, 45),\n",
              " (70, 86),\n",
              " (70, 87),\n",
              " (70, 88),\n",
              " (45, 83),\n",
              " (45, 84),\n",
              " (45, 85),\n",
              " (45, 70),\n",
              " (45, 86),\n",
              " (45, 87),\n",
              " (45, 88),\n",
              " (45, 89),\n",
              " (86, 84),\n",
              " (86, 85),\n",
              " (86, 70),\n",
              " (86, 45),\n",
              " (86, 87),\n",
              " (86, 88),\n",
              " (86, 89),\n",
              " (86, 90),\n",
              " (87, 85),\n",
              " (87, 70),\n",
              " (87, 45),\n",
              " (87, 86),\n",
              " (87, 88),\n",
              " (87, 89),\n",
              " (87, 90),\n",
              " (87, 91),\n",
              " (88, 70),\n",
              " (88, 45),\n",
              " (88, 86),\n",
              " (88, 87),\n",
              " (88, 89),\n",
              " (88, 90),\n",
              " (88, 91),\n",
              " (88, 92),\n",
              " (89, 45),\n",
              " (89, 86),\n",
              " (89, 87),\n",
              " (89, 88),\n",
              " (89, 90),\n",
              " (89, 91),\n",
              " (89, 92),\n",
              " (89, 93),\n",
              " (90, 86),\n",
              " (90, 87),\n",
              " (90, 88),\n",
              " (90, 89),\n",
              " (90, 91),\n",
              " (90, 92),\n",
              " (90, 93),\n",
              " (90, 93),\n",
              " (91, 87),\n",
              " (91, 88),\n",
              " (91, 89),\n",
              " (91, 90),\n",
              " (91, 92),\n",
              " (91, 93),\n",
              " (91, 93),\n",
              " (91, 94),\n",
              " (92, 88),\n",
              " (92, 89),\n",
              " (92, 90),\n",
              " (92, 91),\n",
              " (92, 93),\n",
              " (92, 93),\n",
              " (92, 94),\n",
              " (92, 95),\n",
              " (93, 89),\n",
              " (93, 90),\n",
              " (93, 91),\n",
              " (93, 92),\n",
              " (93, 93),\n",
              " (93, 94),\n",
              " (93, 95),\n",
              " (93, 21),\n",
              " (93, 90),\n",
              " (93, 91),\n",
              " (93, 92),\n",
              " (93, 93),\n",
              " (93, 94),\n",
              " (93, 95),\n",
              " (93, 21),\n",
              " (93, 46),\n",
              " (94, 91),\n",
              " (94, 92),\n",
              " (94, 93),\n",
              " (94, 93),\n",
              " (94, 95),\n",
              " (94, 21),\n",
              " (94, 46),\n",
              " (94, 47),\n",
              " (95, 92),\n",
              " (95, 93),\n",
              " (95, 93),\n",
              " (95, 94),\n",
              " (95, 21),\n",
              " (95, 46),\n",
              " (95, 47),\n",
              " (95, 48),\n",
              " (21, 93),\n",
              " (21, 93),\n",
              " (21, 94),\n",
              " (21, 95),\n",
              " (21, 46),\n",
              " (21, 47),\n",
              " (21, 48),\n",
              " (21, 96),\n",
              " (46, 93),\n",
              " (46, 94),\n",
              " (46, 95),\n",
              " (46, 21),\n",
              " (46, 47),\n",
              " (46, 48),\n",
              " (46, 96),\n",
              " (46, 97),\n",
              " (47, 94),\n",
              " (47, 95),\n",
              " (47, 21),\n",
              " (47, 46),\n",
              " (47, 48),\n",
              " (47, 96),\n",
              " (47, 97),\n",
              " (47, 98),\n",
              " (48, 95),\n",
              " (48, 21),\n",
              " (48, 46),\n",
              " (48, 47),\n",
              " (48, 96),\n",
              " (48, 97),\n",
              " (48, 98),\n",
              " (48, 39),\n",
              " (96, 21),\n",
              " (96, 46),\n",
              " (96, 47),\n",
              " (96, 48),\n",
              " (96, 97),\n",
              " (96, 98),\n",
              " (96, 39),\n",
              " (96, 99),\n",
              " (97, 46),\n",
              " (97, 47),\n",
              " (97, 48),\n",
              " (97, 96),\n",
              " (97, 98),\n",
              " (97, 39),\n",
              " (97, 99),\n",
              " (97, 100),\n",
              " (98, 47),\n",
              " (98, 48),\n",
              " (98, 96),\n",
              " (98, 97),\n",
              " (98, 39),\n",
              " (98, 99),\n",
              " (98, 100),\n",
              " (98, 101),\n",
              " (39, 48),\n",
              " (39, 96),\n",
              " ...]"
            ]
          },
          "metadata": {},
          "execution_count": 17
        }
      ],
      "source": [
        "data_windowed"
      ]
    },
    {
      "cell_type": "code",
      "execution_count": 18,
      "id": "481f4fc7-ba7f-46c2-926a-9cba626781a7",
      "metadata": {
        "id": "481f4fc7-ba7f-46c2-926a-9cba626781a7"
      },
      "outputs": [],
      "source": [
        "class text_dataset(Dataset):\n",
        "    def __init__(self, data_windowed, vocab_size):\n",
        "        self.data = data_windowed\n",
        "        self.vocab_size = vocab_size\n",
        "\n",
        "    def __len__(self):\n",
        "        return len(self.data)\n",
        "\n",
        "    def __getitem__(self, idx):\n",
        "        x0, y = self.data[idx]\n",
        "        # Ensure that x0 is a sequence and not a single value\n",
        "        if not isinstance(x0, (list, tuple)):\n",
        "            x0 = [x0]  # Wrap x0 in a list if it's a single value\n",
        "        return torch.tensor(x0), torch.tensor(y)\n"
      ]
    },
    {
      "cell_type": "code",
      "execution_count": 19,
      "id": "d5c05cf8-f7dd-458c-b719-17940bee45cd",
      "metadata": {
        "id": "d5c05cf8-f7dd-458c-b719-17940bee45cd"
      },
      "outputs": [],
      "source": [
        "dataset = text_dataset(data_windowed, len(vocab))"
      ]
    },
    {
      "cell_type": "markdown",
      "id": "61e1277f-6e84-405c-8ea8-884543095d07",
      "metadata": {
        "id": "61e1277f-6e84-405c-8ea8-884543095d07"
      },
      "source": [
        "### Building the network"
      ]
    },
    {
      "cell_type": "code",
      "execution_count": 20,
      "id": "f62e5bb2-238a-4069-afca-0b0fe2f1ea2d",
      "metadata": {
        "id": "f62e5bb2-238a-4069-afca-0b0fe2f1ea2d",
        "collapsed": true,
        "colab": {
          "base_uri": "https://localhost:8080/"
        },
        "outputId": "d071159c-7f3b-4495-fcac-8f6c61343c1d"
      },
      "outputs": [
        {
          "output_type": "stream",
          "name": "stdout",
          "text": [
            "Word2VecCNN(\n",
            "  (embed): Embedding(487, 10)\n",
            "  (conv1d): Conv1d(10, 10, kernel_size=(2,), stride=(1,), padding=(1,))\n",
            "  (expand): Linear(in_features=20, out_features=487, bias=False)\n",
            ")\n"
          ]
        },
        {
          "output_type": "stream",
          "name": "stderr",
          "text": [
            "  1%|          | 224/21300 [00:03<04:41, 74.80it/s]"
          ]
        },
        {
          "output_type": "stream",
          "name": "stdout",
          "text": [
            "Epoch 1/100, Loss: 6.0656\n"
          ]
        },
        {
          "output_type": "stream",
          "name": "stderr",
          "text": [
            "  2%|▏         | 452/21300 [00:05<02:30, 138.56it/s]"
          ]
        },
        {
          "output_type": "stream",
          "name": "stdout",
          "text": [
            "Epoch 2/100, Loss: 5.8726\n"
          ]
        },
        {
          "output_type": "stream",
          "name": "stderr",
          "text": [
            "  3%|▎         | 660/21300 [00:07<02:53, 118.73it/s]"
          ]
        },
        {
          "output_type": "stream",
          "name": "stdout",
          "text": [
            "Epoch 3/100, Loss: 5.8182\n"
          ]
        },
        {
          "output_type": "stream",
          "name": "stderr",
          "text": [
            "  4%|▍         | 865/21300 [00:09<02:29, 136.77it/s]"
          ]
        },
        {
          "output_type": "stream",
          "name": "stdout",
          "text": [
            "Epoch 4/100, Loss: 5.7482\n"
          ]
        },
        {
          "output_type": "stream",
          "name": "stderr",
          "text": [
            "  5%|▌         | 1092/21300 [00:11<02:13, 151.74it/s]"
          ]
        },
        {
          "output_type": "stream",
          "name": "stdout",
          "text": [
            "Epoch 5/100, Loss: 5.6737\n"
          ]
        },
        {
          "output_type": "stream",
          "name": "stderr",
          "text": [
            "  6%|▌         | 1302/21300 [00:12<01:50, 181.13it/s]"
          ]
        },
        {
          "output_type": "stream",
          "name": "stdout",
          "text": [
            "Epoch 6/100, Loss: 5.5999\n"
          ]
        },
        {
          "output_type": "stream",
          "name": "stderr",
          "text": [
            "  7%|▋         | 1530/21300 [00:13<01:09, 282.57it/s]"
          ]
        },
        {
          "output_type": "stream",
          "name": "stdout",
          "text": [
            "Epoch 7/100, Loss: 5.5308\n"
          ]
        },
        {
          "output_type": "stream",
          "name": "stderr",
          "text": [
            "  8%|▊         | 1742/21300 [00:14<00:56, 344.22it/s]"
          ]
        },
        {
          "output_type": "stream",
          "name": "stdout",
          "text": [
            "Epoch 8/100, Loss: 5.4678\n"
          ]
        },
        {
          "output_type": "stream",
          "name": "stderr",
          "text": [
            "  9%|▉         | 1962/21300 [00:14<00:54, 354.80it/s]"
          ]
        },
        {
          "output_type": "stream",
          "name": "stdout",
          "text": [
            "Epoch 9/100, Loss: 5.4111\n"
          ]
        },
        {
          "output_type": "stream",
          "name": "stderr",
          "text": [
            " 10%|█         | 2177/21300 [00:15<00:55, 342.98it/s]"
          ]
        },
        {
          "output_type": "stream",
          "name": "stdout",
          "text": [
            "Epoch 10/100, Loss: 5.3601\n"
          ]
        },
        {
          "output_type": "stream",
          "name": "stderr",
          "text": [
            " 11%|█         | 2383/21300 [00:16<01:19, 239.38it/s]"
          ]
        },
        {
          "output_type": "stream",
          "name": "stdout",
          "text": [
            "Epoch 11/100, Loss: 5.3137\n"
          ]
        },
        {
          "output_type": "stream",
          "name": "stderr",
          "text": [
            " 12%|█▏        | 2590/21300 [00:17<01:20, 231.73it/s]"
          ]
        },
        {
          "output_type": "stream",
          "name": "stdout",
          "text": [
            "Epoch 12/100, Loss: 5.2709\n"
          ]
        },
        {
          "output_type": "stream",
          "name": "stderr",
          "text": [
            " 13%|█▎        | 2818/21300 [00:18<01:15, 243.68it/s]"
          ]
        },
        {
          "output_type": "stream",
          "name": "stdout",
          "text": [
            "Epoch 13/100, Loss: 5.2344\n"
          ]
        },
        {
          "output_type": "stream",
          "name": "stderr",
          "text": [
            " 14%|█▍        | 3014/21300 [00:18<01:18, 232.60it/s]"
          ]
        },
        {
          "output_type": "stream",
          "name": "stdout",
          "text": [
            "Epoch 14/100, Loss: 5.1996\n"
          ]
        },
        {
          "output_type": "stream",
          "name": "stderr",
          "text": [
            " 15%|█▌        | 3265/21300 [00:20<01:07, 266.99it/s]"
          ]
        },
        {
          "output_type": "stream",
          "name": "stdout",
          "text": [
            "Epoch 15/100, Loss: 5.1714\n"
          ]
        },
        {
          "output_type": "stream",
          "name": "stderr",
          "text": [
            " 16%|█▌        | 3446/21300 [00:21<00:57, 311.92it/s]"
          ]
        },
        {
          "output_type": "stream",
          "name": "stdout",
          "text": [
            "Epoch 16/100, Loss: 5.1423\n"
          ]
        },
        {
          "output_type": "stream",
          "name": "stderr",
          "text": [
            " 17%|█▋        | 3665/21300 [00:21<00:50, 351.02it/s]"
          ]
        },
        {
          "output_type": "stream",
          "name": "stdout",
          "text": [
            "Epoch 17/100, Loss: 5.1187\n"
          ]
        },
        {
          "output_type": "stream",
          "name": "stderr",
          "text": [
            " 18%|█▊        | 3888/21300 [00:22<00:49, 353.44it/s]"
          ]
        },
        {
          "output_type": "stream",
          "name": "stdout",
          "text": [
            "Epoch 18/100, Loss: 5.0969\n"
          ]
        },
        {
          "output_type": "stream",
          "name": "stderr",
          "text": [
            " 19%|█▉        | 4105/21300 [00:23<00:48, 352.21it/s]"
          ]
        },
        {
          "output_type": "stream",
          "name": "stdout",
          "text": [
            "Epoch 19/100, Loss: 5.0770\n"
          ]
        },
        {
          "output_type": "stream",
          "name": "stderr",
          "text": [
            " 20%|██        | 4320/21300 [00:23<00:48, 349.86it/s]"
          ]
        },
        {
          "output_type": "stream",
          "name": "stdout",
          "text": [
            "Epoch 20/100, Loss: 5.0594\n"
          ]
        },
        {
          "output_type": "stream",
          "name": "stderr",
          "text": [
            " 21%|██        | 4504/21300 [00:24<00:47, 351.43it/s]"
          ]
        },
        {
          "output_type": "stream",
          "name": "stdout",
          "text": [
            "Epoch 21/100, Loss: 5.0441\n"
          ]
        },
        {
          "output_type": "stream",
          "name": "stderr",
          "text": [
            " 22%|██▏       | 4723/21300 [00:24<00:46, 353.49it/s]"
          ]
        },
        {
          "output_type": "stream",
          "name": "stdout",
          "text": [
            "Epoch 22/100, Loss: 5.0295\n"
          ]
        },
        {
          "output_type": "stream",
          "name": "stderr",
          "text": [
            " 23%|██▎       | 4940/21300 [00:25<00:47, 342.05it/s]"
          ]
        },
        {
          "output_type": "stream",
          "name": "stdout",
          "text": [
            "Epoch 23/100, Loss: 5.0150\n"
          ]
        },
        {
          "output_type": "stream",
          "name": "stderr",
          "text": [
            " 24%|██▍       | 5160/21300 [00:26<00:44, 359.21it/s]"
          ]
        },
        {
          "output_type": "stream",
          "name": "stdout",
          "text": [
            "Epoch 24/100, Loss: 5.0036\n"
          ]
        },
        {
          "output_type": "stream",
          "name": "stderr",
          "text": [
            " 25%|██▌       | 5377/21300 [00:26<00:44, 354.97it/s]"
          ]
        },
        {
          "output_type": "stream",
          "name": "stdout",
          "text": [
            "Epoch 25/100, Loss: 4.9928\n"
          ]
        },
        {
          "output_type": "stream",
          "name": "stderr",
          "text": [
            " 26%|██▋       | 5595/21300 [00:27<00:44, 349.50it/s]"
          ]
        },
        {
          "output_type": "stream",
          "name": "stdout",
          "text": [
            "Epoch 26/100, Loss: 4.9820\n"
          ]
        },
        {
          "output_type": "stream",
          "name": "stderr",
          "text": [
            " 27%|██▋       | 5814/21300 [00:27<00:43, 355.04it/s]"
          ]
        },
        {
          "output_type": "stream",
          "name": "stdout",
          "text": [
            "Epoch 27/100, Loss: 4.9715\n"
          ]
        },
        {
          "output_type": "stream",
          "name": "stderr",
          "text": [
            " 28%|██▊       | 5995/21300 [00:28<00:44, 341.36it/s]"
          ]
        },
        {
          "output_type": "stream",
          "name": "stdout",
          "text": [
            "Epoch 28/100, Loss: 4.9626\n"
          ]
        },
        {
          "output_type": "stream",
          "name": "stderr",
          "text": [
            " 29%|██▉       | 6203/21300 [00:29<01:32, 163.00it/s]"
          ]
        },
        {
          "output_type": "stream",
          "name": "stdout",
          "text": [
            "Epoch 29/100, Loss: 4.9559\n"
          ]
        },
        {
          "output_type": "stream",
          "name": "stderr",
          "text": [
            " 30%|██▉       | 6389/21300 [00:32<03:46, 65.97it/s]"
          ]
        },
        {
          "output_type": "stream",
          "name": "stdout",
          "text": [
            "Epoch 30/100, Loss: 4.9481\n"
          ]
        },
        {
          "output_type": "stream",
          "name": "stderr",
          "text": [
            " 31%|███       | 6622/21300 [00:35<02:52, 85.22it/s]"
          ]
        },
        {
          "output_type": "stream",
          "name": "stdout",
          "text": [
            "Epoch 31/100, Loss: 4.9399\n"
          ]
        },
        {
          "output_type": "stream",
          "name": "stderr",
          "text": [
            " 32%|███▏      | 6850/21300 [00:36<01:16, 188.28it/s]"
          ]
        },
        {
          "output_type": "stream",
          "name": "stdout",
          "text": [
            "Epoch 32/100, Loss: 4.9342\n"
          ]
        },
        {
          "output_type": "stream",
          "name": "stderr",
          "text": [
            " 33%|███▎      | 7086/21300 [00:37<00:44, 316.89it/s]"
          ]
        },
        {
          "output_type": "stream",
          "name": "stdout",
          "text": [
            "Epoch 33/100, Loss: 4.9270\n"
          ]
        },
        {
          "output_type": "stream",
          "name": "stderr",
          "text": [
            " 34%|███▍      | 7297/21300 [00:38<00:41, 336.22it/s]"
          ]
        },
        {
          "output_type": "stream",
          "name": "stdout",
          "text": [
            "Epoch 34/100, Loss: 4.9199\n"
          ]
        },
        {
          "output_type": "stream",
          "name": "stderr",
          "text": [
            " 35%|███▌      | 7517/21300 [00:38<00:39, 353.18it/s]"
          ]
        },
        {
          "output_type": "stream",
          "name": "stdout",
          "text": [
            "Epoch 35/100, Loss: 4.9152\n"
          ]
        },
        {
          "output_type": "stream",
          "name": "stderr",
          "text": [
            " 36%|███▋      | 7733/21300 [00:39<00:38, 348.15it/s]"
          ]
        },
        {
          "output_type": "stream",
          "name": "stdout",
          "text": [
            "Epoch 36/100, Loss: 4.9080\n"
          ]
        },
        {
          "output_type": "stream",
          "name": "stderr",
          "text": [
            " 37%|███▋      | 7949/21300 [00:40<00:38, 344.45it/s]"
          ]
        },
        {
          "output_type": "stream",
          "name": "stdout",
          "text": [
            "Epoch 37/100, Loss: 4.9039\n"
          ]
        },
        {
          "output_type": "stream",
          "name": "stderr",
          "text": [
            " 38%|███▊      | 8131/21300 [00:40<00:37, 355.28it/s]"
          ]
        },
        {
          "output_type": "stream",
          "name": "stdout",
          "text": [
            "Epoch 38/100, Loss: 4.8981\n"
          ]
        },
        {
          "output_type": "stream",
          "name": "stderr",
          "text": [
            " 39%|███▉      | 8351/21300 [00:41<00:37, 347.46it/s]"
          ]
        },
        {
          "output_type": "stream",
          "name": "stdout",
          "text": [
            "Epoch 39/100, Loss: 4.8936\n"
          ]
        },
        {
          "output_type": "stream",
          "name": "stderr",
          "text": [
            " 40%|████      | 8568/21300 [00:41<00:35, 359.50it/s]"
          ]
        },
        {
          "output_type": "stream",
          "name": "stdout",
          "text": [
            "Epoch 40/100, Loss: 4.8899\n"
          ]
        },
        {
          "output_type": "stream",
          "name": "stderr",
          "text": [
            " 41%|████      | 8785/21300 [00:42<00:35, 350.10it/s]"
          ]
        },
        {
          "output_type": "stream",
          "name": "stdout",
          "text": [
            "Epoch 41/100, Loss: 4.8847\n"
          ]
        },
        {
          "output_type": "stream",
          "name": "stderr",
          "text": [
            " 42%|████▏     | 9006/21300 [00:43<00:35, 346.85it/s]"
          ]
        },
        {
          "output_type": "stream",
          "name": "stdout",
          "text": [
            "Epoch 42/100, Loss: 4.8816\n"
          ]
        },
        {
          "output_type": "stream",
          "name": "stderr",
          "text": [
            " 43%|████▎     | 9222/21300 [00:43<00:34, 348.21it/s]"
          ]
        },
        {
          "output_type": "stream",
          "name": "stdout",
          "text": [
            "Epoch 43/100, Loss: 4.8766\n"
          ]
        },
        {
          "output_type": "stream",
          "name": "stderr",
          "text": [
            " 44%|████▍     | 9438/21300 [00:44<00:34, 342.52it/s]"
          ]
        },
        {
          "output_type": "stream",
          "name": "stdout",
          "text": [
            "Epoch 44/100, Loss: 4.8734\n"
          ]
        },
        {
          "output_type": "stream",
          "name": "stderr",
          "text": [
            " 45%|████▌     | 9655/21300 [00:44<00:32, 358.34it/s]"
          ]
        },
        {
          "output_type": "stream",
          "name": "stdout",
          "text": [
            "Epoch 45/100, Loss: 4.8707\n"
          ]
        },
        {
          "output_type": "stream",
          "name": "stderr",
          "text": [
            " 46%|████▌     | 9838/21300 [00:45<00:32, 357.17it/s]"
          ]
        },
        {
          "output_type": "stream",
          "name": "stdout",
          "text": [
            "Epoch 46/100, Loss: 4.8674\n"
          ]
        },
        {
          "output_type": "stream",
          "name": "stderr",
          "text": [
            " 47%|████▋     | 10035/21300 [00:46<00:43, 257.07it/s]"
          ]
        },
        {
          "output_type": "stream",
          "name": "stdout",
          "text": [
            "Epoch 47/100, Loss: 4.8636\n"
          ]
        },
        {
          "output_type": "stream",
          "name": "stderr",
          "text": [
            " 48%|████▊     | 10265/21300 [00:47<00:48, 227.31it/s]"
          ]
        },
        {
          "output_type": "stream",
          "name": "stdout",
          "text": [
            "Epoch 48/100, Loss: 4.8613\n"
          ]
        },
        {
          "output_type": "stream",
          "name": "stderr",
          "text": [
            " 49%|████▉     | 10469/21300 [00:48<00:43, 247.64it/s]"
          ]
        },
        {
          "output_type": "stream",
          "name": "stdout",
          "text": [
            "Epoch 49/100, Loss: 4.8577\n"
          ]
        },
        {
          "output_type": "stream",
          "name": "stderr",
          "text": [
            " 50%|█████     | 10690/21300 [00:48<00:45, 231.84it/s]"
          ]
        },
        {
          "output_type": "stream",
          "name": "stdout",
          "text": [
            "Epoch 50/100, Loss: 4.8562\n"
          ]
        },
        {
          "output_type": "stream",
          "name": "stderr",
          "text": [
            " 51%|█████     | 10900/21300 [00:49<00:47, 220.85it/s]"
          ]
        },
        {
          "output_type": "stream",
          "name": "stdout",
          "text": [
            "Epoch 51/100, Loss: 4.8523\n"
          ]
        },
        {
          "output_type": "stream",
          "name": "stderr",
          "text": [
            " 52%|█████▏    | 11137/21300 [00:50<00:30, 328.80it/s]"
          ]
        },
        {
          "output_type": "stream",
          "name": "stdout",
          "text": [
            "Epoch 52/100, Loss: 4.8513\n"
          ]
        },
        {
          "output_type": "stream",
          "name": "stderr",
          "text": [
            " 53%|█████▎    | 11321/21300 [00:51<00:28, 355.34it/s]"
          ]
        },
        {
          "output_type": "stream",
          "name": "stdout",
          "text": [
            "Epoch 53/100, Loss: 4.8463\n"
          ]
        },
        {
          "output_type": "stream",
          "name": "stderr",
          "text": [
            " 54%|█████▍    | 11574/21300 [00:51<00:27, 352.16it/s]"
          ]
        },
        {
          "output_type": "stream",
          "name": "stdout",
          "text": [
            "Epoch 54/100, Loss: 4.8461\n"
          ]
        },
        {
          "output_type": "stream",
          "name": "stderr",
          "text": [
            " 55%|█████▌    | 11757/21300 [00:52<00:26, 354.27it/s]"
          ]
        },
        {
          "output_type": "stream",
          "name": "stdout",
          "text": [
            "Epoch 55/100, Loss: 4.8436\n"
          ]
        },
        {
          "output_type": "stream",
          "name": "stderr",
          "text": [
            " 56%|█████▌    | 11975/21300 [00:53<00:26, 354.18it/s]"
          ]
        },
        {
          "output_type": "stream",
          "name": "stdout",
          "text": [
            "Epoch 56/100, Loss: 4.8405\n"
          ]
        },
        {
          "output_type": "stream",
          "name": "stderr",
          "text": [
            " 57%|█████▋    | 12191/21300 [00:53<00:26, 347.29it/s]"
          ]
        },
        {
          "output_type": "stream",
          "name": "stdout",
          "text": [
            "Epoch 57/100, Loss: 4.8391\n"
          ]
        },
        {
          "output_type": "stream",
          "name": "stderr",
          "text": [
            " 58%|█████▊    | 12407/21300 [00:54<00:25, 345.36it/s]"
          ]
        },
        {
          "output_type": "stream",
          "name": "stdout",
          "text": [
            "Epoch 58/100, Loss: 4.8360\n"
          ]
        },
        {
          "output_type": "stream",
          "name": "stderr",
          "text": [
            " 59%|█████▉    | 12626/21300 [00:54<00:24, 355.55it/s]"
          ]
        },
        {
          "output_type": "stream",
          "name": "stdout",
          "text": [
            "Epoch 59/100, Loss: 4.8350\n"
          ]
        },
        {
          "output_type": "stream",
          "name": "stderr",
          "text": [
            " 60%|██████    | 12844/21300 [00:55<00:23, 356.39it/s]"
          ]
        },
        {
          "output_type": "stream",
          "name": "stdout",
          "text": [
            "Epoch 60/100, Loss: 4.8336\n"
          ]
        },
        {
          "output_type": "stream",
          "name": "stderr",
          "text": [
            " 61%|██████▏   | 13062/21300 [00:56<00:23, 357.06it/s]"
          ]
        },
        {
          "output_type": "stream",
          "name": "stdout",
          "text": [
            "Epoch 61/100, Loss: 4.8301\n"
          ]
        },
        {
          "output_type": "stream",
          "name": "stderr",
          "text": [
            " 62%|██████▏   | 13245/21300 [00:56<00:23, 346.04it/s]"
          ]
        },
        {
          "output_type": "stream",
          "name": "stdout",
          "text": [
            "Epoch 62/100, Loss: 4.8298\n"
          ]
        },
        {
          "output_type": "stream",
          "name": "stderr",
          "text": [
            " 63%|██████▎   | 13466/21300 [00:57<00:22, 351.18it/s]"
          ]
        },
        {
          "output_type": "stream",
          "name": "stdout",
          "text": [
            "Epoch 63/100, Loss: 4.8287\n"
          ]
        },
        {
          "output_type": "stream",
          "name": "stderr",
          "text": [
            " 64%|██████▍   | 13684/21300 [00:57<00:21, 351.38it/s]"
          ]
        },
        {
          "output_type": "stream",
          "name": "stdout",
          "text": [
            "Epoch 64/100, Loss: 4.8264\n"
          ]
        },
        {
          "output_type": "stream",
          "name": "stderr",
          "text": [
            " 65%|██████▌   | 13900/21300 [00:58<00:21, 349.05it/s]"
          ]
        },
        {
          "output_type": "stream",
          "name": "stdout",
          "text": [
            "Epoch 65/100, Loss: 4.8246\n"
          ]
        },
        {
          "output_type": "stream",
          "name": "stderr",
          "text": [
            " 66%|██████▋   | 14113/21300 [00:59<00:20, 351.37it/s]"
          ]
        },
        {
          "output_type": "stream",
          "name": "stdout",
          "text": [
            "Epoch 66/100, Loss: 4.8232\n"
          ]
        },
        {
          "output_type": "stream",
          "name": "stderr",
          "text": [
            " 67%|██████▋   | 14330/21300 [00:59<00:20, 340.99it/s]"
          ]
        },
        {
          "output_type": "stream",
          "name": "stdout",
          "text": [
            "Epoch 67/100, Loss: 4.8204\n"
          ]
        },
        {
          "output_type": "stream",
          "name": "stderr",
          "text": [
            " 68%|██████▊   | 14527/21300 [01:00<00:25, 265.44it/s]"
          ]
        },
        {
          "output_type": "stream",
          "name": "stdout",
          "text": [
            "Epoch 68/100, Loss: 4.8190\n"
          ]
        },
        {
          "output_type": "stream",
          "name": "stderr",
          "text": [
            " 69%|██████▉   | 14740/21300 [01:01<00:26, 244.87it/s]"
          ]
        },
        {
          "output_type": "stream",
          "name": "stdout",
          "text": [
            "Epoch 69/100, Loss: 4.8183\n"
          ]
        },
        {
          "output_type": "stream",
          "name": "stderr",
          "text": [
            " 70%|███████   | 14944/21300 [01:02<00:25, 245.66it/s]"
          ]
        },
        {
          "output_type": "stream",
          "name": "stdout",
          "text": [
            "Epoch 70/100, Loss: 4.8173\n"
          ]
        },
        {
          "output_type": "stream",
          "name": "stderr",
          "text": [
            " 71%|███████   | 15152/21300 [01:03<00:25, 239.72it/s]"
          ]
        },
        {
          "output_type": "stream",
          "name": "stdout",
          "text": [
            "Epoch 71/100, Loss: 4.8158\n"
          ]
        },
        {
          "output_type": "stream",
          "name": "stderr",
          "text": [
            " 72%|███████▏  | 15371/21300 [01:03<00:25, 234.29it/s]"
          ]
        },
        {
          "output_type": "stream",
          "name": "stdout",
          "text": [
            "Epoch 72/100, Loss: 4.8145\n"
          ]
        },
        {
          "output_type": "stream",
          "name": "stderr",
          "text": [
            " 73%|███████▎  | 15598/21300 [01:04<00:18, 307.92it/s]"
          ]
        },
        {
          "output_type": "stream",
          "name": "stdout",
          "text": [
            "Epoch 73/100, Loss: 4.8127\n"
          ]
        },
        {
          "output_type": "stream",
          "name": "stderr",
          "text": [
            " 74%|███████▍  | 15813/21300 [01:05<00:15, 352.08it/s]"
          ]
        },
        {
          "output_type": "stream",
          "name": "stdout",
          "text": [
            "Epoch 74/100, Loss: 4.8102\n"
          ]
        },
        {
          "output_type": "stream",
          "name": "stderr",
          "text": [
            " 75%|███████▌  | 16030/21300 [01:06<00:15, 350.26it/s]"
          ]
        },
        {
          "output_type": "stream",
          "name": "stdout",
          "text": [
            "Epoch 75/100, Loss: 4.8104\n"
          ]
        },
        {
          "output_type": "stream",
          "name": "stderr",
          "text": [
            " 76%|███████▋  | 16249/21300 [01:06<00:14, 354.44it/s]"
          ]
        },
        {
          "output_type": "stream",
          "name": "stdout",
          "text": [
            "Epoch 76/100, Loss: 4.8088\n"
          ]
        },
        {
          "output_type": "stream",
          "name": "stderr",
          "text": [
            " 77%|███████▋  | 16467/21300 [01:07<00:14, 343.49it/s]"
          ]
        },
        {
          "output_type": "stream",
          "name": "stdout",
          "text": [
            "Epoch 77/100, Loss: 4.8077\n"
          ]
        },
        {
          "output_type": "stream",
          "name": "stderr",
          "text": [
            " 78%|███████▊  | 16685/21300 [01:07<00:13, 350.91it/s]"
          ]
        },
        {
          "output_type": "stream",
          "name": "stdout",
          "text": [
            "Epoch 78/100, Loss: 4.8066\n"
          ]
        },
        {
          "output_type": "stream",
          "name": "stderr",
          "text": [
            " 79%|███████▉  | 16864/21300 [01:08<00:12, 341.48it/s]"
          ]
        },
        {
          "output_type": "stream",
          "name": "stdout",
          "text": [
            "Epoch 79/100, Loss: 4.8054\n"
          ]
        },
        {
          "output_type": "stream",
          "name": "stderr",
          "text": [
            " 80%|████████  | 17078/21300 [01:09<00:12, 350.41it/s]"
          ]
        },
        {
          "output_type": "stream",
          "name": "stdout",
          "text": [
            "Epoch 80/100, Loss: 4.8045\n"
          ]
        },
        {
          "output_type": "stream",
          "name": "stderr",
          "text": [
            " 81%|████████▏ | 17322/21300 [01:09<00:11, 339.01it/s]"
          ]
        },
        {
          "output_type": "stream",
          "name": "stdout",
          "text": [
            "Epoch 81/100, Loss: 4.8026\n"
          ]
        },
        {
          "output_type": "stream",
          "name": "stderr",
          "text": [
            " 82%|████████▏ | 17500/21300 [01:10<00:11, 331.61it/s]"
          ]
        },
        {
          "output_type": "stream",
          "name": "stdout",
          "text": [
            "Epoch 82/100, Loss: 4.8020\n"
          ]
        },
        {
          "output_type": "stream",
          "name": "stderr",
          "text": [
            " 83%|████████▎ | 17718/21300 [01:10<00:10, 352.21it/s]"
          ]
        },
        {
          "output_type": "stream",
          "name": "stdout",
          "text": [
            "Epoch 83/100, Loss: 4.8006\n"
          ]
        },
        {
          "output_type": "stream",
          "name": "stderr",
          "text": [
            " 84%|████████▍ | 17934/21300 [01:11<00:09, 349.79it/s]"
          ]
        },
        {
          "output_type": "stream",
          "name": "stdout",
          "text": [
            "Epoch 84/100, Loss: 4.8000\n"
          ]
        },
        {
          "output_type": "stream",
          "name": "stderr",
          "text": [
            " 85%|████████▌ | 18152/21300 [01:12<00:08, 356.03it/s]"
          ]
        },
        {
          "output_type": "stream",
          "name": "stdout",
          "text": [
            "Epoch 85/100, Loss: 4.7994\n"
          ]
        },
        {
          "output_type": "stream",
          "name": "stderr",
          "text": [
            " 86%|████████▌ | 18371/21300 [01:12<00:08, 353.14it/s]"
          ]
        },
        {
          "output_type": "stream",
          "name": "stdout",
          "text": [
            "Epoch 86/100, Loss: 4.7993\n"
          ]
        },
        {
          "output_type": "stream",
          "name": "stderr",
          "text": [
            " 87%|████████▋ | 18589/21300 [01:13<00:07, 345.91it/s]"
          ]
        },
        {
          "output_type": "stream",
          "name": "stdout",
          "text": [
            "Epoch 87/100, Loss: 4.7973\n"
          ]
        },
        {
          "output_type": "stream",
          "name": "stderr",
          "text": [
            " 88%|████████▊ | 18805/21300 [01:14<00:06, 356.75it/s]"
          ]
        },
        {
          "output_type": "stream",
          "name": "stdout",
          "text": [
            "Epoch 88/100, Loss: 4.7967\n"
          ]
        },
        {
          "output_type": "stream",
          "name": "stderr",
          "text": [
            " 89%|████████▉ | 18985/21300 [01:14<00:07, 319.09it/s]"
          ]
        },
        {
          "output_type": "stream",
          "name": "stdout",
          "text": [
            "Epoch 89/100, Loss: 4.7957\n"
          ]
        },
        {
          "output_type": "stream",
          "name": "stderr",
          "text": [
            " 90%|█████████ | 19204/21300 [01:15<00:08, 240.81it/s]"
          ]
        },
        {
          "output_type": "stream",
          "name": "stdout",
          "text": [
            "Epoch 90/100, Loss: 4.7938\n"
          ]
        },
        {
          "output_type": "stream",
          "name": "stderr",
          "text": [
            " 91%|█████████ | 19423/21300 [01:16<00:07, 239.30it/s]"
          ]
        },
        {
          "output_type": "stream",
          "name": "stdout",
          "text": [
            "Epoch 91/100, Loss: 4.7953\n"
          ]
        },
        {
          "output_type": "stream",
          "name": "stderr",
          "text": [
            " 92%|█████████▏| 19625/21300 [01:17<00:07, 234.54it/s]"
          ]
        },
        {
          "output_type": "stream",
          "name": "stdout",
          "text": [
            "Epoch 92/100, Loss: 4.7929\n"
          ]
        },
        {
          "output_type": "stream",
          "name": "stderr",
          "text": [
            " 93%|█████████▎| 19832/21300 [01:18<00:07, 204.13it/s]"
          ]
        },
        {
          "output_type": "stream",
          "name": "stdout",
          "text": [
            "Epoch 93/100, Loss: 4.7921\n"
          ]
        },
        {
          "output_type": "stream",
          "name": "stderr",
          "text": [
            " 94%|█████████▍| 20065/21300 [01:19<00:04, 285.19it/s]"
          ]
        },
        {
          "output_type": "stream",
          "name": "stdout",
          "text": [
            "Epoch 94/100, Loss: 4.7916\n"
          ]
        },
        {
          "output_type": "stream",
          "name": "stderr",
          "text": [
            " 95%|█████████▌| 20276/21300 [01:19<00:03, 339.18it/s]"
          ]
        },
        {
          "output_type": "stream",
          "name": "stdout",
          "text": [
            "Epoch 95/100, Loss: 4.7901\n"
          ]
        },
        {
          "output_type": "stream",
          "name": "stderr",
          "text": [
            " 96%|█████████▌| 20491/21300 [01:20<00:02, 352.97it/s]"
          ]
        },
        {
          "output_type": "stream",
          "name": "stdout",
          "text": [
            "Epoch 96/100, Loss: 4.7899\n"
          ]
        },
        {
          "output_type": "stream",
          "name": "stderr",
          "text": [
            " 97%|█████████▋| 20707/21300 [01:21<00:01, 349.39it/s]"
          ]
        },
        {
          "output_type": "stream",
          "name": "stdout",
          "text": [
            "Epoch 97/100, Loss: 4.7888\n"
          ]
        },
        {
          "output_type": "stream",
          "name": "stderr",
          "text": [
            " 98%|█████████▊| 20923/21300 [01:21<00:01, 331.42it/s]"
          ]
        },
        {
          "output_type": "stream",
          "name": "stdout",
          "text": [
            "Epoch 98/100, Loss: 4.7887\n"
          ]
        },
        {
          "output_type": "stream",
          "name": "stderr",
          "text": [
            " 99%|█████████▉| 21138/21300 [01:22<00:00, 341.59it/s]"
          ]
        },
        {
          "output_type": "stream",
          "name": "stdout",
          "text": [
            "Epoch 99/100, Loss: 4.7868\n"
          ]
        },
        {
          "output_type": "stream",
          "name": "stderr",
          "text": [
            "100%|█████████▉| 21282/21300 [01:22<00:00, 348.73it/s]"
          ]
        },
        {
          "output_type": "stream",
          "name": "stdout",
          "text": [
            "Epoch 100/100, Loss: 4.7872\n"
          ]
        }
      ],
      "source": [
        "class Word2VecCNN(nn.Module):\n",
        "    def __init__(self, vocab_size, embedding_size, kernel_size, num_filters):\n",
        "        super(Word2VecCNN, self).__init__()\n",
        "        self.embed = nn.Embedding(vocab_size, embedding_size)\n",
        "        self.conv1d = nn.Conv1d(in_channels=embedding_size,\n",
        "                                out_channels=num_filters,\n",
        "                                kernel_size=kernel_size, padding=1)\n",
        "\n",
        "        self.kernel_size = kernel_size # Define self.kernel_size before calling _get_conv1d_output_length\n",
        "        self.num_filters = num_filters\n",
        "\n",
        "        # Calculate the output size of the convolutional layer\n",
        "        output_size = self._get_conv1d_output_length(2) * num_filters\n",
        "\n",
        "        # Adjust the input size of the linear layer to match the output of the convolutional layer\n",
        "        self.expand = nn.Linear(output_size, vocab_size, bias=False)\n",
        "\n",
        "    def _get_conv1d_output_length(self, input_length):\n",
        "        # Compute output length of Conv1d layer\n",
        "        return (input_length - self.kernel_size + 2 * 1) // 1\n",
        "\n",
        "    def forward(self, input):\n",
        "        # Convert input to embeddings\n",
        "        hidden = self.embed(input)\n",
        "\n",
        "        # Check if hidden is 2D and add dimension if necessary\n",
        "        if hidden.dim() == 2:\n",
        "            hidden = hidden.unsqueeze(1)  # Add dimension at position 1\n",
        "\n",
        "        # Permute the hidden tensor for Conv1d\n",
        "        hidden = hidden.permute(0,2,1)  # (batch_size, embedding_size, seq_len)\n",
        "\n",
        "        # Apply the convolutional layer\n",
        "        conv_out = self.conv1d(hidden)\n",
        "\n",
        "        # Flatten the conv_out tensor using reshape\n",
        "        conv_out = conv_out.reshape(conv_out.size(0), -1) # Flatten to 2 dimensions\n",
        "\n",
        "        # Apply linear layer\n",
        "        logits = self.expand(conv_out)\n",
        "\n",
        "        return logits\n",
        "\n",
        "vocab_size=len(vocab)\n",
        "embedding_size = 10  # Embedding size\n",
        "kernel_size = 2  # Kernel size\n",
        "num_filters = 10  # number of filters\n",
        "\n",
        "# Create the model\n",
        "model = Word2VecCNN(vocab_size, embedding_size, kernel_size, num_filters)\n",
        "print(model)\n",
        "\n",
        "# Define loss function and optimizer\n",
        "LR = 3e-3\n",
        "EPOCHS = 100\n",
        "loss_fn = nn.CrossEntropyLoss()\n",
        "optimizer = torch.optim.AdamW(model.parameters(), lr=LR)\n",
        "\n",
        "from tqdm import tqdm\n",
        "\n",
        "dataloader = DataLoader(dataset, batch_size=64, shuffle=True)  # Use a reasonable batch size\n",
        "\n",
        "# Training loop\n",
        "progress_bar = tqdm(range(EPOCHS * len(dataloader)))\n",
        "running_loss = []\n",
        "\n",
        "for epoch in range(EPOCHS):\n",
        "    epoch_loss = 0\n",
        "    for center, context in dataloader:\n",
        "        optimizer.zero_grad()\n",
        "        logits = model(input=context)\n",
        "\n",
        "        # Reshape the center tensor to be 1D\n",
        "        loss = loss_fn(logits, center.squeeze(1))\n",
        "\n",
        "        epoch_loss += loss.item()\n",
        "        loss.backward()\n",
        "        optimizer.step()\n",
        "        progress_bar.update()\n",
        "\n",
        "    epoch_loss /= len(dataloader)\n",
        "    running_loss.append(epoch_loss)\n",
        "    print(f\"Epoch {epoch+1}/{EPOCHS}, Loss: {epoch_loss:.4f}\")"
      ]
    },
    {
      "cell_type": "markdown",
      "source": [],
      "metadata": {
        "id": "WkaNJa0c2asF"
      },
      "id": "WkaNJa0c2asF"
    },
    {
      "cell_type": "code",
      "execution_count": 21,
      "id": "d02a3ca5-ffc2-4fb0-8f5f-cfe80a5f8a3d",
      "metadata": {
        "colab": {
          "base_uri": "https://localhost:8080/",
          "height": 447
        },
        "id": "d02a3ca5-ffc2-4fb0-8f5f-cfe80a5f8a3d",
        "outputId": "5808c853-88c3-4213-9a40-b877acc22844"
      },
      "outputs": [
        {
          "output_type": "execute_result",
          "data": {
            "text/plain": [
              "[<matplotlib.lines.Line2D at 0x7e5a768373d0>]"
            ]
          },
          "metadata": {},
          "execution_count": 21
        },
        {
          "output_type": "display_data",
          "data": {
            "text/plain": [
              "<Figure size 640x480 with 1 Axes>"
            ],
            "image/png": "[encoded data removed]"
          },
          "metadata": {}
        }
      ],
      "source": [
        "import matplotlib.pyplot as plt\n",
        "plt.plot(running_loss)"
      ]
    },
    {
      "cell_type": "code",
      "execution_count": 22,
      "id": "8cd3f65f-9e5e-4be9-abe8-1e1d0faa0170",
      "metadata": {
        "id": "8cd3f65f-9e5e-4be9-abe8-1e1d0faa0170"
      },
      "outputs": [],
      "source": [
        "from scipy.spatial import distance\n",
        "import numpy as np\n"
      ]
    },
    {
      "cell_type": "code",
      "execution_count": 23,
      "id": "c6d19f60-7a6c-470e-8c9a-11da4d59f063",
      "metadata": {
        "id": "c6d19f60-7a6c-470e-8c9a-11da4d59f063",
        "outputId": "522ce516-5e18-4e77-9f9c-376efd9a288d",
        "colab": {
          "base_uri": "https://localhost:8080/"
        }
      },
      "outputs": [
        {
          "output_type": "execute_result",
          "data": {
            "text/plain": [
              "array([-0.03182739, -0.19041316, -0.06656986,  0.34494627,  1.4342452 ,\n",
              "       -0.14171308,  1.0965886 ,  0.64856774, -0.547748  , -0.83988035,\n",
              "       -0.747104  ,  0.16870458,  0.16907609,  0.7489911 , -0.6506867 ,\n",
              "       -0.07596089,  0.54714936,  0.46206418,  0.32192573, -0.08585812],\n",
              "      dtype=float32)"
            ]
          },
          "metadata": {},
          "execution_count": 23
        }
      ],
      "source": [
        "wordvecs = model.expand.weight.cpu().detach().numpy()\n",
        "wordvecs[0]"
      ]
    },
    {
      "cell_type": "code",
      "source": [
        "itot = {i: word for i, word in enumerate(vocab)}\n",
        "ttoi = {word: i for i, word in enumerate(vocab)}\n",
        "def get_distance_matrix(wordvecs, metric):\n",
        "    dist_matrix = distance.squareform(distance.pdist(wordvecs, metric))\n",
        "    return dist_matrix\n",
        "\n",
        "# n * (n-1) / 2\n",
        "def get_k_similar_words(word, dist_matrix, itot, ttoi, k=10): # Added itot and ttoi as arguments\n",
        "    idx = ttoi[word]\n",
        "    dists = dist_matrix[idx]\n",
        "    ind = np.argpartition(dists, k)[:k+1]\n",
        "    ind = ind[np.argsort(dists[ind])][1:]\n",
        "    out = [(i, itot[i], dists[i]) for i in ind]\n",
        "    return out\n",
        "\n",
        "dmat = get_distance_matrix(wordvecs, 'cosine')\n",
        "tokens_test = [\"Aureliano\",'años', 'coronel', 'casa', 'pueblo', 'Macondo',\"Úrsula\"]\n",
        "\n",
        "# Assuming 'itot' and 'ttoi' are defined elsewhere in the code,\n",
        "# pass them as arguments to the function\n",
        "for word in tokens_test:\n",
        "    print(word, [t[1] for t in get_k_similar_words(word, dmat, itot, ttoi, k=10)], \"\\n\")"
      ],
      "metadata": {
        "colab": {
          "base_uri": "https://localhost:8080/"
        },
        "id": "lmMHhN2zjAar",
        "outputId": "526bb2d7-1a0b-47c5-82d3-e0fc544b4225"
      },
      "id": "lmMHhN2zjAar",
      "execution_count": 25,
      "outputs": [
        {
          "output_type": "stream",
          "name": "stdout",
          "text": [
            "Aureliano ['tarde', 'primer', 'sierra', 'coronel', 'años', 'fusilamiento', 'pelotón', 'edad', 'fundación', 'después'] \n",
            "\n",
            "años ['entonces', 'aquella', 'niños', 'Macondo', 'Aureliano', 'Los', 'padre', 'Buendía', 'tarde', 'gitanos'] \n",
            "\n",
            "coronel ['fusilamiento', 'pelotón', 'después', 'Muchos', 'Sólo', 'recordar', 'sierra', 'empresa', 'Aureliano', 'primer'] \n",
            "\n",
            "casa ['En', 'mundo', 'Úrsula', 'vez', 'dos', 'sino', 'ver', 'tan', 'gitanos', 'punto'] \n",
            "\n",
            "pueblo ['posibilidad', 'desmontar', 'astrolabio', 'norte', 'puerta', 'decir', 'mismos', 'Toda', 'regresar', 'herramientas'] \n",
            "\n",
            "Macondo ['entonces', 'Era', 'años', 'aldea', 'Buendía', 'Arcadio', 'José', 'todas', 'ser', 'hombre'] \n",
            "\n",
            "Úrsula ['Pero', 'punto', 'aquella', 'En', 'mujer', 'Melquíades', 'vez', 'cosas', 'toda', 'José'] \n",
            "\n"
          ]
        }
      ]
    },
    {
      "cell_type": "markdown",
      "source": [
        "## Conclusion"
      ],
      "metadata": {
        "id": "nxpR8BxFVDxt"
      },
      "id": "nxpR8BxFVDxt"
    },
    {
      "cell_type": "markdown",
      "source": [
        "\n",
        "EL modelo Word2VecCNN, emplea una red neuronal convolucional que integra embeddings de palabras de tamaño 10 con una capa de convolución 1D. El proposito de esta red neuronal es que esta diseñada para capturar y modelar las relaciones contextuales entre palabras dentro de secuencias textuales.\n",
        "\n",
        "El proceso de entrenamiento del modelo utiliza una función de pérdida de entropía cruzada en combinación con el optimizador AdamW, durante un total de 100 épocas. A lo largo de este proceso, se observa una disminución continua y progresiva de la pérdida, lo que indica que está efectivamente aprendiendo a representar las relaciones entre las palabras. Al final del entrenamiento, la pérdida tiende a estabilizarse alrededor del valor de 4.78.\n",
        "\n",
        "Finalmente el modelo encuentra de manera adecuada palabras similares mediante el cálculo de distancias entre vectores utilizando la matriz de distancias. Por ejemplo Aureliano y de Coronel comparten palabras similares ya que estas dos vienen a ser muy cercanas dentro del texto. (Coronel Aureliano Buendia)\n"
      ],
      "metadata": {
        "id": "haxaryaEVG6N"
      },
      "id": "haxaryaEVG6N"
    }
  ],
  "metadata": {
    "colab": {
      "provenance": [],
      "include_colab_link": true
    },
    "kernelspec": {
      "display_name": "Python 3 (ipykernel)",
      "language": "python",
      "name": "python3"
    },
    "language_info": {
      "codemirror_mode": {
        "name": "ipython",
        "version": 3
      },
      "file_extension": ".py",
      "mimetype": "text/x-python",
      "name": "python",
      "nbconvert_exporter": "python",
      "pygments_lexer": "ipython3",
      "version": "3.12.4"
    }
  },
  "nbformat": 4,
  "nbformat_minor": 5
}